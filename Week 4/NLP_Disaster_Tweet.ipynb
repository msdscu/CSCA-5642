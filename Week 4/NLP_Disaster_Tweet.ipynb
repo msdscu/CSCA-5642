{
 "cells": [
  {
   "cell_type": "markdown",
   "id": "2bef0e28",
   "metadata": {},
   "source": [
    "# Introduction\n",
    "\n",
    "Kaggle Natural Language Processing with Disaster Tweets\n",
    "\n",
    "## Competition Description\n",
    "\n",
    "Twitter has become an important communication channel in times of emergency.\n",
    "The ubiquitousness of smartphones enables people to announce an emergency they’re observing in real-time. Because of this, more agencies are interested in programatically monitoring Twitter (i.e. disaster relief organizations and news agencies) (Addison Howard).\n",
    "\n",
    "## Problem\n",
    "The challenge problem involves using Natural Language Processing (NLP) to classify tweets as either real disasters (labeled as '1') or not real disasters (labeled as '0'). This is a binary classification task where NLP techniques are crucial for understanding and extracting meaningful information from the unstructured text data (tweets).\n",
    "\n",
    "This project will attempt to solve the problem using LSTM.\n",
    "\n",
    "LSTMs are well-suited for disaster tweet classification because they effectively capture sequential patterns and dependencies in short text data, such as tweets, which often contain critical disaster-related keywords in specific orders. Their ability to retain context over sequences makes them adept at understanding the semantic meaning of phrases like \"#earthquake alert\" or \"flood warning.\" LSTMs can also handle variable-length inputs (via padding), accommodating the diverse lengths of tweets while preserving important information. Additionally, their robustness to noise, when paired with proper preprocessing, allows them to focus on relevant signals in messy social media text, improving binary classification performance.\n",
    "\n",
    "## Data Description\n",
    "The training dataset (train_df) consists of 7,613 entries and 5 columns. Each entry includes an id, a keyword (a string, though 61 entries are missing), a location (a string, with a substantial 2,533 missing entries), the text of the tweet (a string), and the target (an integer indicating whether the tweet is about a real disaster, with no missing values). Similarly, the test dataset (test_df) contains 3,263 entries and 4 columns. It also includes id, keyword (with 26 missing entries), location (with 1,105 missing entries), and text. The crucial difference is the absence of the target column in the test set, as this is the variable to be predicted. Both datasets have missing values in the keyword and location columns, with location having a more significant proportion of missing data.\n",
    "\n",
    "Addison Howard, devrishi, Phil Culliton, and Yufeng Guo. Natural Language Processing with Disaster Tweets. https://kaggle.com/competitions/nlp-getting-started, 2019. Kaggle."
   ]
  },
  {
   "cell_type": "markdown",
   "id": "58b1d477",
   "metadata": {},
   "source": [
    "# Inputs"
   ]
  },
  {
   "cell_type": "code",
   "execution_count": 216,
   "id": "318466ea",
   "metadata": {},
   "outputs": [],
   "source": [
    "import os\n",
    "import pandas as pd\n",
    "import matplotlib.pyplot as plt\n",
    "import seaborn as sns\n",
    "import numpy as np\n",
    "\n",
    "from sklearn.preprocessing import LabelEncoder\n",
    "from Levenshtein import distance\n",
    "from collections import defaultdict\n",
    "\n",
    "import re\n",
    "from tensorflow.keras.preprocessing.text import Tokenizer\n",
    "from tensorflow.keras.preprocessing.sequence import pad_sequences\n",
    "from tensorflow.keras.models import Model\n",
    "from tensorflow.keras.layers import Input, Embedding, LSTM, Dense, Concatenate, Dropout\n",
    "from sklearn.metrics import confusion_matrix, classification_report, f1_score, accuracy_score, precision_score, recall_score\n",
    "import tensorflow as tf\n",
    "from tensorflow.keras.callbacks import EarlyStopping, ModelCheckpoint\n",
    "import random\n",
    "\n",
    "from sklearn.model_selection import ParameterGrid"
   ]
  },
  {
   "cell_type": "code",
   "execution_count": 217,
   "id": "582d39ba",
   "metadata": {},
   "outputs": [],
   "source": [
    "data_path = './nlp-getting-started/'\n",
    "for file in os.listdir(data_path):\n",
    "    if file[:5]=='train':\n",
    "        train_df = pd.read_csv(data_path+file)\n",
    "    elif file[:4]=='test':\n",
    "        test_df = pd.read_csv(data_path+file)"
   ]
  },
  {
   "cell_type": "markdown",
   "id": "3384447d",
   "metadata": {},
   "source": [
    "# EDA"
   ]
  },
  {
   "cell_type": "code",
   "execution_count": 218,
   "id": "3e2d564d",
   "metadata": {},
   "outputs": [
    {
     "name": "stdout",
     "output_type": "stream",
     "text": [
      "<class 'pandas.core.frame.DataFrame'>\n",
      "RangeIndex: 7613 entries, 0 to 7612\n",
      "Data columns (total 5 columns):\n",
      " #   Column    Non-Null Count  Dtype \n",
      "---  ------    --------------  ----- \n",
      " 0   id        7613 non-null   int64 \n",
      " 1   keyword   7552 non-null   object\n",
      " 2   location  5080 non-null   object\n",
      " 3   text      7613 non-null   object\n",
      " 4   target    7613 non-null   int64 \n",
      "dtypes: int64(2), object(3)\n",
      "memory usage: 297.5+ KB\n"
     ]
    }
   ],
   "source": [
    "train_df.info()"
   ]
  },
  {
   "cell_type": "code",
   "execution_count": 219,
   "id": "3f8a3cb7",
   "metadata": {},
   "outputs": [
    {
     "data": {
      "text/html": [
       "<div>\n",
       "<style scoped>\n",
       "    .dataframe tbody tr th:only-of-type {\n",
       "        vertical-align: middle;\n",
       "    }\n",
       "\n",
       "    .dataframe tbody tr th {\n",
       "        vertical-align: top;\n",
       "    }\n",
       "\n",
       "    .dataframe thead th {\n",
       "        text-align: right;\n",
       "    }\n",
       "</style>\n",
       "<table border=\"1\" class=\"dataframe\">\n",
       "  <thead>\n",
       "    <tr style=\"text-align: right;\">\n",
       "      <th></th>\n",
       "      <th>id</th>\n",
       "      <th>keyword</th>\n",
       "      <th>location</th>\n",
       "      <th>text</th>\n",
       "      <th>target</th>\n",
       "    </tr>\n",
       "  </thead>\n",
       "  <tbody>\n",
       "    <tr>\n",
       "      <th>0</th>\n",
       "      <td>1</td>\n",
       "      <td>NaN</td>\n",
       "      <td>NaN</td>\n",
       "      <td>Our Deeds are the Reason of this #earthquake M...</td>\n",
       "      <td>1</td>\n",
       "    </tr>\n",
       "    <tr>\n",
       "      <th>1</th>\n",
       "      <td>4</td>\n",
       "      <td>NaN</td>\n",
       "      <td>NaN</td>\n",
       "      <td>Forest fire near La Ronge Sask. Canada</td>\n",
       "      <td>1</td>\n",
       "    </tr>\n",
       "    <tr>\n",
       "      <th>2</th>\n",
       "      <td>5</td>\n",
       "      <td>NaN</td>\n",
       "      <td>NaN</td>\n",
       "      <td>All residents asked to 'shelter in place' are ...</td>\n",
       "      <td>1</td>\n",
       "    </tr>\n",
       "    <tr>\n",
       "      <th>3</th>\n",
       "      <td>6</td>\n",
       "      <td>NaN</td>\n",
       "      <td>NaN</td>\n",
       "      <td>13,000 people receive #wildfires evacuation or...</td>\n",
       "      <td>1</td>\n",
       "    </tr>\n",
       "    <tr>\n",
       "      <th>4</th>\n",
       "      <td>7</td>\n",
       "      <td>NaN</td>\n",
       "      <td>NaN</td>\n",
       "      <td>Just got sent this photo from Ruby #Alaska as ...</td>\n",
       "      <td>1</td>\n",
       "    </tr>\n",
       "  </tbody>\n",
       "</table>\n",
       "</div>"
      ],
      "text/plain": [
       "   id keyword location                                               text  \\\n",
       "0   1     NaN      NaN  Our Deeds are the Reason of this #earthquake M...   \n",
       "1   4     NaN      NaN             Forest fire near La Ronge Sask. Canada   \n",
       "2   5     NaN      NaN  All residents asked to 'shelter in place' are ...   \n",
       "3   6     NaN      NaN  13,000 people receive #wildfires evacuation or...   \n",
       "4   7     NaN      NaN  Just got sent this photo from Ruby #Alaska as ...   \n",
       "\n",
       "   target  \n",
       "0       1  \n",
       "1       1  \n",
       "2       1  \n",
       "3       1  \n",
       "4       1  "
      ]
     },
     "execution_count": 219,
     "metadata": {},
     "output_type": "execute_result"
    }
   ],
   "source": [
    "train_df.head()"
   ]
  },
  {
   "cell_type": "code",
   "execution_count": 220,
   "id": "df757128",
   "metadata": {},
   "outputs": [
    {
     "name": "stdout",
     "output_type": "stream",
     "text": [
      "<class 'pandas.core.frame.DataFrame'>\n",
      "RangeIndex: 3263 entries, 0 to 3262\n",
      "Data columns (total 4 columns):\n",
      " #   Column    Non-Null Count  Dtype \n",
      "---  ------    --------------  ----- \n",
      " 0   id        3263 non-null   int64 \n",
      " 1   keyword   3237 non-null   object\n",
      " 2   location  2158 non-null   object\n",
      " 3   text      3263 non-null   object\n",
      "dtypes: int64(1), object(3)\n",
      "memory usage: 102.1+ KB\n"
     ]
    }
   ],
   "source": [
    "test_df.info()"
   ]
  },
  {
   "cell_type": "markdown",
   "id": "0172205a",
   "metadata": {},
   "source": [
    "## Missing Values"
   ]
  },
  {
   "cell_type": "code",
   "execution_count": 221,
   "id": "cdfb57f2",
   "metadata": {},
   "outputs": [
    {
     "data": {
      "text/plain": [
       "Text(0, 0.5, 'Percentage of missing values')"
      ]
     },
     "execution_count": 221,
     "metadata": {},
     "output_type": "execute_result"
    },
    {
     "data": {
      "image/png": "[encoded data removed]",
      "text/plain": [
       "<Figure size 640x480 with 1 Axes>"
      ]
     },
     "metadata": {},
     "output_type": "display_data"
    }
   ],
   "source": [
    "plt.title('Percentage of missing values in each column')\n",
    "sns.barplot((train_df.isnull().sum()/len(train_df)).reset_index(), x = 'index', y = 0)\n",
    "plt.xticks(rotation=90)\n",
    "plt.xlabel('Columns')\n",
    "plt.ylabel('Percentage of missing values')"
   ]
  },
  {
   "cell_type": "code",
   "execution_count": 222,
   "id": "17461d4d",
   "metadata": {},
   "outputs": [
    {
     "data": {
      "text/plain": [
       "Text(0, 0.5, 'Percentage of missing values')"
      ]
     },
     "execution_count": 222,
     "metadata": {},
     "output_type": "execute_result"
    },
    {
     "data": {
      "image/png": "[encoded data removed]",
      "text/plain": [
       "<Figure size 640x480 with 1 Axes>"
      ]
     },
     "metadata": {},
     "output_type": "display_data"
    }
   ],
   "source": [
    "plt.title('Percentage of missing values in each column')\n",
    "sns.barplot((test_df.isnull().sum()/len(test_df)).reset_index(), x = 'index', y = 0)\n",
    "plt.xticks(rotation=90)\n",
    "plt.xlabel('Columns')\n",
    "plt.ylabel('Percentage of missing values')"
   ]
  },
  {
   "cell_type": "markdown",
   "id": "97f5ba80",
   "metadata": {},
   "source": [
    "As expected from the data description, keyword and location contain missing values. location has over 30% missing values. These missing values will be imputed below."
   ]
  },
  {
   "cell_type": "markdown",
   "id": "c8cf88fe",
   "metadata": {},
   "source": [
    "## Data Preprocessing"
   ]
  },
  {
   "cell_type": "markdown",
   "id": "93959c8a",
   "metadata": {},
   "source": [
    "### Imputing Missing Values"
   ]
  },
  {
   "cell_type": "code",
   "execution_count": 223,
   "id": "ec37faf2",
   "metadata": {},
   "outputs": [
    {
     "name": "stdout",
     "output_type": "stream",
     "text": [
      "Unique keywords: 221\n"
     ]
    }
   ],
   "source": [
    "print('Unique keywords:', train_df['keyword'].nunique())"
   ]
  },
  {
   "cell_type": "markdown",
   "id": "468e8932",
   "metadata": {},
   "source": [
    "- Given the limited missing keywords, simply dropping rows might be too aggressive. \n",
    "- nokeyword will be used to impute the missing values in the keyword column."
   ]
  },
  {
   "cell_type": "code",
   "execution_count": 224,
   "id": "0758c3bc",
   "metadata": {},
   "outputs": [],
   "source": [
    "train_df['keyword'] = train_df['keyword'].fillna('nokeyword')\n",
    "test_df['keyword'] = test_df['keyword'].fillna('nokeyword')"
   ]
  },
  {
   "cell_type": "code",
   "execution_count": 225,
   "id": "2dee22eb",
   "metadata": {},
   "outputs": [
    {
     "name": "stdout",
     "output_type": "stream",
     "text": [
      "Unique locations: 3341\n"
     ]
    }
   ],
   "source": [
    "print('Unique locations:', train_df['location'].nunique())"
   ]
  },
  {
   "cell_type": "markdown",
   "id": "df199c34",
   "metadata": {},
   "source": [
    "- While over 30% of the location values are missing, there are still over 3K unique locations.\n",
    "- unknownlocation will be used to fill in the missing values."
   ]
  },
  {
   "cell_type": "code",
   "execution_count": 226,
   "id": "cdd0a648",
   "metadata": {},
   "outputs": [],
   "source": [
    "train_df['location'] = train_df['location'].fillna('unknownlocation')\n",
    "test_df['location'] = test_df['location'].fillna('unknownlocation')"
   ]
  },
  {
   "cell_type": "markdown",
   "id": "8be20cfe",
   "metadata": {},
   "source": [
    "### Standardization\n",
    "- Keywords"
   ]
  },
  {
   "cell_type": "code",
   "execution_count": 227,
   "id": "9f8ff34b",
   "metadata": {},
   "outputs": [
    {
     "data": {
      "text/plain": [
       "array(['nokeyword', 'ablaze', 'accident', 'aftershock',\n",
       "       'airplane%20accident', 'ambulance', 'annihilated', 'annihilation',\n",
       "       'apocalypse', 'armageddon', 'army', 'arson', 'arsonist', 'attack',\n",
       "       'attacked', 'avalanche', 'battle', 'bioterror', 'bioterrorism',\n",
       "       'blaze', 'blazing', 'bleeding', 'blew%20up', 'blight', 'blizzard',\n",
       "       'blood', 'bloody', 'blown%20up', 'body%20bag', 'body%20bagging',\n",
       "       'body%20bags', 'bomb', 'bombed', 'bombing', 'bridge%20collapse',\n",
       "       'buildings%20burning', 'buildings%20on%20fire', 'burned',\n",
       "       'burning', 'burning%20buildings', 'bush%20fires', 'casualties',\n",
       "       'casualty', 'catastrophe', 'catastrophic', 'chemical%20emergency',\n",
       "       'cliff%20fall', 'collapse', 'collapsed', 'collide', 'collided',\n",
       "       'collision', 'crash', 'crashed', 'crush', 'crushed', 'curfew',\n",
       "       'cyclone', 'damage', 'danger', 'dead', 'death', 'deaths', 'debris',\n",
       "       'deluge', 'deluged', 'demolish', 'demolished', 'demolition',\n",
       "       'derail', 'derailed', 'derailment', 'desolate', 'desolation',\n",
       "       'destroy', 'destroyed', 'destruction', 'detonate', 'detonation',\n",
       "       'devastated', 'devastation', 'disaster', 'displaced', 'drought',\n",
       "       'drown', 'drowned', 'drowning', 'dust%20storm', 'earthquake',\n",
       "       'electrocute', 'electrocuted', 'emergency', 'emergency%20plan',\n",
       "       'emergency%20services', 'engulfed', 'epicentre', 'evacuate',\n",
       "       'evacuated', 'evacuation', 'explode', 'exploded', 'explosion',\n",
       "       'eyewitness', 'famine', 'fatal', 'fatalities', 'fatality', 'fear',\n",
       "       'fire', 'fire%20truck', 'first%20responders', 'flames',\n",
       "       'flattened', 'flood', 'flooding', 'floods', 'forest%20fire',\n",
       "       'forest%20fires', 'hail', 'hailstorm', 'harm', 'hazard',\n",
       "       'hazardous', 'heat%20wave', 'hellfire', 'hijack', 'hijacker',\n",
       "       'hijacking', 'hostage', 'hostages', 'hurricane', 'injured',\n",
       "       'injuries', 'injury', 'inundated', 'inundation', 'landslide',\n",
       "       'lava', 'lightning', 'loud%20bang', 'mass%20murder',\n",
       "       'mass%20murderer', 'massacre', 'mayhem', 'meltdown', 'military',\n",
       "       'mudslide', 'natural%20disaster', 'nuclear%20disaster',\n",
       "       'nuclear%20reactor', 'obliterate', 'obliterated', 'obliteration',\n",
       "       'oil%20spill', 'outbreak', 'pandemonium', 'panic', 'panicking',\n",
       "       'police', 'quarantine', 'quarantined', 'radiation%20emergency',\n",
       "       'rainstorm', 'razed', 'refugees', 'rescue', 'rescued', 'rescuers',\n",
       "       'riot', 'rioting', 'rubble', 'ruin', 'sandstorm', 'screamed',\n",
       "       'screaming', 'screams', 'seismic', 'sinkhole', 'sinking', 'siren',\n",
       "       'sirens', 'smoke', 'snowstorm', 'storm', 'stretcher',\n",
       "       'structural%20failure', 'suicide%20bomb', 'suicide%20bomber',\n",
       "       'suicide%20bombing', 'sunk', 'survive', 'survived', 'survivors',\n",
       "       'terrorism', 'terrorist', 'threat', 'thunder', 'thunderstorm',\n",
       "       'tornado', 'tragedy', 'trapped', 'trauma', 'traumatised',\n",
       "       'trouble', 'tsunami', 'twister', 'typhoon', 'upheaval',\n",
       "       'violent%20storm', 'volcano', 'war%20zone', 'weapon', 'weapons',\n",
       "       'whirlwind', 'wild%20fires', 'wildfire', 'windstorm', 'wounded',\n",
       "       'wounds', 'wreck', 'wreckage', 'wrecked'], dtype=object)"
      ]
     },
     "execution_count": 227,
     "metadata": {},
     "output_type": "execute_result"
    }
   ],
   "source": [
    "test_df['keyword'].unique()"
   ]
  },
  {
   "cell_type": "markdown",
   "id": "705774f3",
   "metadata": {},
   "source": [
    "The keyword column appears to be cleaned. There does appear to be very simillar words (ex. weapon and weapons, wild fires and wildfire). This will be standardized to contain the most frequent version."
   ]
  },
  {
   "cell_type": "code",
   "execution_count": 228,
   "id": "185f7ef5",
   "metadata": {},
   "outputs": [],
   "source": [
    "train_df['keyword'] = train_df['keyword'].str.replace('%20', '', regex=False)\n",
    "test_df['keyword'] = test_df['keyword'].str.replace('%20', '', regex=False)"
   ]
  },
  {
   "cell_type": "code",
   "execution_count": 229,
   "id": "47c7319f",
   "metadata": {},
   "outputs": [
    {
     "name": "stdout",
     "output_type": "stream",
     "text": [
      "\n",
      "Finding similar keywords (similarity > 80.0%):\n",
      "  Group found. Canonical: 'massmurder' (Count: 50)\n",
      "  Members: ['massmurder', 'massmurderer']\n",
      "  Group found. Canonical: 'obliterate' (Count: 50)\n",
      "  Members: ['obliterate', 'obliterated']\n",
      "  Group found. Canonical: 'quarantine' (Count: 50)\n",
      "  Members: ['quarantine', 'quarantined']\n",
      "  Group found. Canonical: 'ablaze' (Count: 50)\n",
      "  Members: ['ablaze', 'blaze']\n",
      "  Group found. Canonical: 'flood' (Count: 50)\n",
      "  Members: ['flood', 'floods']\n",
      "  Group found. Canonical: 'forestfires' (Count: 50)\n",
      "  Members: ['forestfires', 'forestfire']\n",
      "  Group found. Canonical: 'hostage' (Count: 50)\n",
      "  Members: ['hostage', 'hostages']\n",
      "  Group found. Canonical: 'rescued' (Count: 50)\n",
      "  Members: ['rescued', 'rescue']\n",
      "  Group found. Canonical: 'terrorism' (Count: 50)\n",
      "  Members: ['terrorism', 'terrorist']\n",
      "  Group found. Canonical: 'weapon' (Count: 50)\n",
      "  Members: ['weapon', 'weapons']\n",
      "  Group found. Canonical: 'wildfires' (Count: 50)\n",
      "  Members: ['wildfires', 'wildfire']\n",
      "  Group found. Canonical: 'survived' (Count: 50)\n",
      "  Members: ['survived', 'survive']\n",
      "  Group found. Canonical: 'siren' (Count: 50)\n",
      "  Members: ['siren', 'sirens']\n",
      "  Group found. Canonical: 'suicidebomb' (Count: 50)\n",
      "  Members: ['suicidebomb', 'suicidebomber']\n",
      "  Group found. Canonical: 'bodybags' (Count: 50)\n",
      "  Members: ['bodybags', 'bodybag']\n",
      "  Group found. Canonical: 'catastrophe' (Count: 50)\n",
      "  Members: ['catastrophe', 'catastrophic']\n",
      "  Group found. Canonical: 'collapse' (Count: 50)\n",
      "  Members: ['collapse', 'collapsed']\n",
      "  Group found. Canonical: 'collide' (Count: 50)\n",
      "  Members: ['collide', 'collided']\n",
      "  Group found. Canonical: 'crashed' (Count: 50)\n",
      "  Members: ['crashed', 'crushed']\n",
      "  Group found. Canonical: 'bloody' (Count: 50)\n",
      "  Members: ['bloody', 'blood']\n",
      "  Group found. Canonical: 'electrocute' (Count: 50)\n",
      "  Members: ['electrocute', 'electrocuted']\n",
      "  Group found. Canonical: 'evacuate' (Count: 50)\n",
      "  Members: ['evacuate', 'evacuated']\n",
      "  Group found. Canonical: 'explode' (Count: 50)\n",
      "  Members: ['explode', 'exploded']\n",
      "  Group found. Canonical: 'death' (Count: 50)\n",
      "  Members: ['death', 'deaths']\n",
      "  Group found. Canonical: 'deluge' (Count: 50)\n",
      "  Members: ['deluge', 'deluged']\n"
     ]
    }
   ],
   "source": [
    "all_keywords_series = pd.concat([test_df['keyword'], train_df['keyword']], axis = 0, ignore_index = True)\n",
    "unique_keywords = all_keywords_series.unique()\n",
    "\n",
    "keyword_counts = all_keywords_series.value_counts()\n",
    "# Define similarity threshold\n",
    "SIMILARITY_THRESHOLD = 0.80 # 80% similarity\n",
    "\n",
    "canonical_map = {word: word for word in unique_keywords}\n",
    "# Keep track of which words have already been processed into a group\n",
    "processed_words = set()\n",
    "sorted_unique_keywords = keyword_counts.index.tolist()\n",
    "\n",
    "print(f\"\\nFinding similar keywords (similarity > {SIMILARITY_THRESHOLD*100}%):\")\n",
    "for i, word1 in enumerate(sorted_unique_keywords):\n",
    "    if word1 in processed_words:\n",
    "        continue # Already part of a group\n",
    "\n",
    "    # This will be the canonical form for the current group\n",
    "    # Initially, it's the word itself, but might change if a more frequent word is found\n",
    "    current_canonical = word1\n",
    "    group_members = [word1] # Words that are similar to word1 (including word1 itself)\n",
    "\n",
    "    for j, word2 in enumerate(sorted_unique_keywords):\n",
    "        if i >= j: # Avoid comparing a word to itself or duplicating pairs (A,B and B,A)\n",
    "            continue\n",
    "        if word2 in processed_words: # If word2 is already grouped, skip\n",
    "            continue\n",
    "\n",
    "        len1 = len(word1)\n",
    "        len2 = len(word2)\n",
    "        max_len = max(len1, len2)\n",
    "\n",
    "        # Calculate Levenshtein distance\n",
    "        lev_dist = distance(word1, word2)\n",
    "\n",
    "        # Calculate similarity percentage\n",
    "        similarity = (1 - (lev_dist / max_len)) if max_len > 0 else 1.0\n",
    "\n",
    "        if similarity > SIMILARITY_THRESHOLD:\n",
    "            # If word2 is similar to word1, add it to the group\n",
    "            group_members.append(word2)\n",
    "\n",
    "    # If a group of similar words was found (more than just word1 itself)\n",
    "    if len(group_members) > 1:\n",
    "        # Find the most frequent word within this group to be the canonical form\n",
    "        # `key=keyword_counts.get` ensures we use the actual counts for sorting\n",
    "        canonical_form = max(group_members, key=keyword_counts.get)\n",
    "\n",
    "        print(f\"  Group found. Canonical: '{canonical_form}' (Count: {keyword_counts.get(canonical_form, 0)})\")\n",
    "        print(f\"  Members: {group_members}\")\n",
    "\n",
    "        # Update the canonical map for all members of this group\n",
    "        for member_word in group_members:\n",
    "            canonical_map[member_word] = canonical_form\n",
    "            processed_words.add(member_word)"
   ]
  },
  {
   "cell_type": "code",
   "execution_count": 230,
   "id": "9054ae9a",
   "metadata": {},
   "outputs": [],
   "source": [
    "train_df['keyword'] = train_df['keyword'].map(canonical_map)\n",
    "test_df['keyword'] = test_df['keyword'].map(canonical_map)"
   ]
  },
  {
   "cell_type": "markdown",
   "id": "9cb79ba8",
   "metadata": {},
   "source": [
    "- Location\n",
    "    - Just like the keyword column, both locations from test AND train datasets will be used prevent the out of vocabulary error."
   ]
  },
  {
   "cell_type": "code",
   "execution_count": 231,
   "id": "d06efc8c",
   "metadata": {},
   "outputs": [
    {
     "data": {
      "text/plain": [
       "USA                 104\n",
       "New York             71\n",
       "United States        50\n",
       "London               45\n",
       "Canada               29\n",
       "Nigeria              28\n",
       "UK                   27\n",
       "Los Angeles, CA      26\n",
       "India                24\n",
       "Mumbai               22\n",
       "Washington, DC       21\n",
       "Kenya                20\n",
       "Worldwide            19\n",
       "Australia            18\n",
       "Chicago, IL          18\n",
       "California           17\n",
       "Everywhere           15\n",
       "New York, NY         15\n",
       "California, USA      15\n",
       "Florida              14\n",
       "San Francisco        14\n",
       "United Kingdom       14\n",
       "Los Angeles          13\n",
       "Indonesia            13\n",
       "Washington, D.C.     13\n",
       "Name: location, dtype: int64"
      ]
     },
     "execution_count": 231,
     "metadata": {},
     "output_type": "execute_result"
    }
   ],
   "source": [
    "train_df[train_df['location']!='unknownlocation']['location'].value_counts().nlargest(25)"
   ]
  },
  {
   "cell_type": "code",
   "execution_count": 232,
   "id": "b431332e",
   "metadata": {},
   "outputs": [
    {
     "data": {
      "text/plain": [
       "japon                            1\n",
       "Phoenix, Arizona, USA            1\n",
       "Malibu/SantaFe/Winning!          1\n",
       "Bozeman, Montana                 1\n",
       "McLean, VA                       1\n",
       "Killa Hill, CO                   1\n",
       "new york, ny                     1\n",
       "Pawnee                           1\n",
       "South Florida                    1\n",
       "Dhaka, Bangladsh                 1\n",
       "London, Greater London, UK       1\n",
       "Positive 852                     1\n",
       "Ashford, Kent, United Kingdom    1\n",
       "Edinburgh, Scotland              1\n",
       "Paris (France)                   1\n",
       "Hammersmith, London              1\n",
       "San Diego, Calif.                1\n",
       "Kansas City, Mo.                 1\n",
       "VCU                              1\n",
       "Ealing, London                   1\n",
       "Anywhere I like                  1\n",
       "I ACCEPT SONG REQUESTS           1\n",
       "USA, North Dakota                1\n",
       "Norwalk, CT                      1\n",
       "highlands&slands scotland        1\n",
       "Name: location, dtype: int64"
      ]
     },
     "execution_count": 232,
     "metadata": {},
     "output_type": "execute_result"
    }
   ],
   "source": [
    "train_df[train_df['location']!='unknownlocation']['location'].value_counts().nsmallest(25)"
   ]
  },
  {
   "cell_type": "markdown",
   "id": "1d26a9cd",
   "metadata": {},
   "source": [
    "The location column is a bit more tricky to clean than the keyword. There does not appear to have been a standard format (ex. City, State, Country) used in this column, and there appears to even be erroneous locations like \"I ACCEPT SONG REQUESTS\"."
   ]
  },
  {
   "cell_type": "code",
   "execution_count": 233,
   "id": "c071dfff",
   "metadata": {},
   "outputs": [],
   "source": [
    "train_df['location'] = train_df['location'].str.lower().str.strip()\n",
    "test_df['location'] = test_df['location'].str.lower().str.strip()"
   ]
  },
  {
   "cell_type": "code",
   "execution_count": 234,
   "id": "d02a16ad",
   "metadata": {},
   "outputs": [],
   "source": [
    "all_locations_series = pd.concat([test_df['location'], train_df['location']], axis = 0, ignore_index = True)\n",
    "single_loc_counts = all_locations_series.str.split(',').explode().str.strip().value_counts()"
   ]
  },
  {
   "cell_type": "markdown",
   "id": "fec79d15",
   "metadata": {},
   "source": [
    "The location column will be standardized by checking each component of a comma-seperated location against the counts of single locations. The component that has the highest count will be kept, however, if a single count is less than 5, it will be replaced with 'unknownlocation'."
   ]
  },
  {
   "cell_type": "code",
   "execution_count": 235,
   "id": "39dae6d3",
   "metadata": {},
   "outputs": [],
   "source": [
    "def clean_location(loc):\n",
    "    # Handle missing, empty, or comma-only locations\n",
    "    if pd.isna(loc) or not loc or loc.strip() == \",\":\n",
    "        return \"unknownlocation\"\n",
    "    \n",
    "    # Split at comma\n",
    "    parts = [part.strip() for part in loc.split(\",\") if part.strip()]\n",
    "    \n",
    "    # Handle empty parts\n",
    "    if not parts:\n",
    "        return \"unknownlocation\"\n",
    "    \n",
    "    # Single-part or multi-part: Check counts\n",
    "    for part in parts:\n",
    "        if single_loc_counts.get(part, 0) >= 5:\n",
    "            # For multi-part, pick part with highest count if >=5\n",
    "            if len(parts) > 1:\n",
    "                max_part = max(parts, key=lambda x: single_loc_counts.get(x, 0))\n",
    "                if single_loc_counts.get(max_part, 0) >= 5:\n",
    "                    return max_part\n",
    "            # For single-part, return if count >=5\n",
    "            else:\n",
    "                return parts[0]\n",
    "    \n",
    "    # No part has count >=5\n",
    "    return \"unknownlocation\""
   ]
  },
  {
   "cell_type": "code",
   "execution_count": 236,
   "id": "9ff2b215",
   "metadata": {},
   "outputs": [],
   "source": [
    "# Apply cleaning\n",
    "train_df['location'] = train_df['location'].apply(clean_location)\n",
    "test_df['location'] = test_df['location'].apply(clean_location)"
   ]
  },
  {
   "cell_type": "markdown",
   "id": "c5a1b021",
   "metadata": {},
   "source": [
    "Lastly, we will remove any punctuations."
   ]
  },
  {
   "cell_type": "code",
   "execution_count": 237,
   "id": "fe857596",
   "metadata": {},
   "outputs": [],
   "source": [
    "train_df['location'] = train_df['location'].str.replace('[^\\w\\s]','', regex = True).str.replace('\\s+','', regex = True).str.strip()\n",
    "test_df['location'] = test_df['location'].str.replace('[^\\w\\s]','', regex = True).str.replace('\\s+','', regex = True).str.strip()\n",
    "\n",
    "train_df['location'] = train_df['location'].replace('', 'unknownlocation')\n",
    "test_df['location'] = test_df['location'].replace('', 'unknownlocation')"
   ]
  },
  {
   "cell_type": "code",
   "execution_count": 238,
   "id": "15f953c4",
   "metadata": {},
   "outputs": [
    {
     "data": {
      "text/plain": [
       "247"
      ]
     },
     "execution_count": 238,
     "metadata": {},
     "output_type": "execute_result"
    }
   ],
   "source": [
    "train_df['location'].nunique()"
   ]
  },
  {
   "cell_type": "markdown",
   "id": "4c0396c4",
   "metadata": {},
   "source": [
    "### Feature encoding\n",
    "- the keyword and lcoation column will become a categorical variable (1-n)\n",
    "- keyword and location from train AND test will be used to fit the LabelEncoder to ensure no out of vabulary errors.\n",
    "- Note: This is NOT suitable for real-world scenarios where truly new words might appear in future data.\n",
    "    - The alternative would be to handle unknown words through transformation into an unknown ID + constant retraining to ensure limited unknown IDs."
   ]
  },
  {
   "cell_type": "code",
   "execution_count": 239,
   "id": "cf7fdd1d",
   "metadata": {},
   "outputs": [
    {
     "name": "stdout",
     "output_type": "stream",
     "text": [
      "[(0, 'ablaze'), (1, 'accident'), (2, 'aftershock'), (3, 'airplaneaccident'), (4, 'ambulance'), (5, 'annihilated'), (6, 'annihilation'), (7, 'apocalypse'), (8, 'armageddon'), (9, 'army')]\n"
     ]
    }
   ],
   "source": [
    "train_keywords = train_df['keyword'].unique()\n",
    "test_keywords = test_df['keyword'].unique()\n",
    "all_keywords = np.unique(np.concatenate((train_keywords, test_keywords), axis=0))\n",
    "\n",
    "le = LabelEncoder()\n",
    "le.fit(all_keywords)\n",
    "\n",
    "# Transform both train and test keywords\n",
    "train_keywords_encoded = le.transform(train_keywords)\n",
    "test_keywords_encoded = le.transform(test_keywords)\n",
    "\n",
    "# Create a mapping of keywords to their encoded labels\n",
    "train_df['keyword_encoded'] = le.transform(train_df['keyword'])\n",
    "test_df['keyword_encoded'] = le.transform(test_df['keyword'])\n",
    "\n",
    "keyword_mapping = {label: keyword for keyword, label in zip(le.classes_, le.transform(le.classes_))}\n",
    "sorted_mapping = sorted(keyword_mapping.items(), key=lambda item: item[1])\n",
    "print(sorted_mapping[:10])"
   ]
  },
  {
   "cell_type": "code",
   "execution_count": 240,
   "id": "fb1c6553",
   "metadata": {},
   "outputs": [
    {
     "name": "stdout",
     "output_type": "stream",
     "text": [
      "[(0, '304'), (1, 'abuja'), (2, 'adelaide'), (3, 'africa'), (4, 'ak'), (5, 'al'), (6, 'alabama'), (7, 'alaska'), (8, 'alberta'), (9, 'alexandria')]\n"
     ]
    }
   ],
   "source": [
    "train_locations = train_df['location'].unique()\n",
    "test_locations = test_df['location'].unique()\n",
    "all_locations = np.unique(np.concatenate((train_locations, test_locations), axis=0))\n",
    "\n",
    "le = LabelEncoder()\n",
    "le.fit(all_locations)\n",
    "\n",
    "# Transform both train and test locations\n",
    "train_locations_encoded = le.transform(train_locations)\n",
    "test_locations_encoded = le.transform(test_locations)\n",
    "\n",
    "# Create a mapping of locations to their encoded labels\n",
    "train_df['location_encoded'] = le.transform(train_df['location'])\n",
    "test_df['location_encoded'] = le.transform(test_df['location'])\n",
    "\n",
    "location_mapping = {label: location for location, label in zip(le.classes_, le.transform(le.classes_))}\n",
    "sorted_mapping = sorted(location_mapping.items(), key=lambda item: item[1])\n",
    "print(sorted_mapping[:10])"
   ]
  },
  {
   "cell_type": "markdown",
   "id": "8bfe5645",
   "metadata": {},
   "source": [
    "### Top keywords and locations per label"
   ]
  },
  {
   "cell_type": "code",
   "execution_count": 241,
   "id": "6604eec7",
   "metadata": {},
   "outputs": [],
   "source": [
    "train_df['location_encoded'] = pd.Categorical(train_df['location_encoded'])\n",
    "train_df['keyword_encoded'] = pd.Categorical(train_df['keyword_encoded'])\n",
    "\n",
    "test_df['location_encoded'] = pd.Categorical(test_df['location_encoded'])\n",
    "test_df['keyword_encoded'] = pd.Categorical(test_df['keyword_encoded'])"
   ]
  },
  {
   "cell_type": "code",
   "execution_count": 242,
   "id": "308b6319",
   "metadata": {},
   "outputs": [
    {
     "data": {
      "text/plain": [
       "<Axes: xlabel='location_encoded', ylabel='Count'>"
      ]
     },
     "execution_count": 242,
     "metadata": {},
     "output_type": "execute_result"
    },
    {
     "data": {
      "image/png": "[encoded data removed]",
      "text/plain": [
       "<Figure size 640x480 with 1 Axes>"
      ]
     },
     "metadata": {},
     "output_type": "display_data"
    }
   ],
   "source": [
    "sns.histplot(train_df[train_df['location_encoded'].isin(train_df['location_encoded'].value_counts().nlargest(10).index)],\n",
    "             x = 'location_encoded', hue = 'target')"
   ]
  },
  {
   "cell_type": "code",
   "execution_count": 243,
   "id": "bd6bb6ec",
   "metadata": {},
   "outputs": [
    {
     "data": {
      "text/html": [
       "<div>\n",
       "<style scoped>\n",
       "    .dataframe tbody tr th:only-of-type {\n",
       "        vertical-align: middle;\n",
       "    }\n",
       "\n",
       "    .dataframe tbody tr th {\n",
       "        vertical-align: top;\n",
       "    }\n",
       "\n",
       "    .dataframe thead th {\n",
       "        text-align: right;\n",
       "    }\n",
       "</style>\n",
       "<table border=\"1\" class=\"dataframe\">\n",
       "  <thead>\n",
       "    <tr style=\"text-align: right;\">\n",
       "      <th></th>\n",
       "      <th>location_target_0</th>\n",
       "      <th>count_0</th>\n",
       "      <th>location_target_1</th>\n",
       "      <th>count_1</th>\n",
       "    </tr>\n",
       "  </thead>\n",
       "  <tbody>\n",
       "    <tr>\n",
       "      <th>0</th>\n",
       "      <td>236</td>\n",
       "      <td>2750</td>\n",
       "      <td>236</td>\n",
       "      <td>1941</td>\n",
       "    </tr>\n",
       "    <tr>\n",
       "      <th>1</th>\n",
       "      <td>238</td>\n",
       "      <td>115</td>\n",
       "      <td>238</td>\n",
       "      <td>119</td>\n",
       "    </tr>\n",
       "    <tr>\n",
       "      <th>2</th>\n",
       "      <td>35</td>\n",
       "      <td>80</td>\n",
       "      <td>35</td>\n",
       "      <td>51</td>\n",
       "    </tr>\n",
       "    <tr>\n",
       "      <th>3</th>\n",
       "      <td>159</td>\n",
       "      <td>74</td>\n",
       "      <td>162</td>\n",
       "      <td>42</td>\n",
       "    </tr>\n",
       "    <tr>\n",
       "      <th>4</th>\n",
       "      <td>120</td>\n",
       "      <td>57</td>\n",
       "      <td>39</td>\n",
       "      <td>36</td>\n",
       "    </tr>\n",
       "    <tr>\n",
       "      <th>5</th>\n",
       "      <td>233</td>\n",
       "      <td>35</td>\n",
       "      <td>91</td>\n",
       "      <td>33</td>\n",
       "    </tr>\n",
       "    <tr>\n",
       "      <th>6</th>\n",
       "      <td>39</td>\n",
       "      <td>34</td>\n",
       "      <td>247</td>\n",
       "      <td>32</td>\n",
       "    </tr>\n",
       "    <tr>\n",
       "      <th>7</th>\n",
       "      <td>231</td>\n",
       "      <td>34</td>\n",
       "      <td>120</td>\n",
       "      <td>31</td>\n",
       "    </tr>\n",
       "    <tr>\n",
       "      <th>8</th>\n",
       "      <td>61</td>\n",
       "      <td>31</td>\n",
       "      <td>159</td>\n",
       "      <td>29</td>\n",
       "    </tr>\n",
       "    <tr>\n",
       "      <th>9</th>\n",
       "      <td>66</td>\n",
       "      <td>30</td>\n",
       "      <td>235</td>\n",
       "      <td>28</td>\n",
       "    </tr>\n",
       "  </tbody>\n",
       "</table>\n",
       "</div>"
      ],
      "text/plain": [
       "  location_target_0  count_0 location_target_1  count_1\n",
       "0               236     2750               236     1941\n",
       "1               238      115               238      119\n",
       "2                35       80                35       51\n",
       "3               159       74               162       42\n",
       "4               120       57                39       36\n",
       "5               233       35                91       33\n",
       "6                39       34               247       32\n",
       "7               231       34               120       31\n",
       "8                61       31               159       29\n",
       "9                66       30               235       28"
      ]
     },
     "execution_count": 243,
     "metadata": {},
     "output_type": "execute_result"
    }
   ],
   "source": [
    "top_10_locations = pd.concat([train_df[(train_df['target']==0)&(train_df['location_encoded']!= 'unknownlocation')]['location_encoded'].value_counts().nlargest(10).reset_index(),\n",
    "train_df[(train_df['target']==1)&(train_df['location_encoded']!= 'unknownlocation')]['location_encoded'].value_counts().nlargest(10).reset_index()], axis = 1)\n",
    "top_10_locations.columns = ['location_target_0', 'count_0', 'location_target_1', 'count_1']\n",
    "top_10_locations"
   ]
  },
  {
   "cell_type": "markdown",
   "id": "8bf9913b",
   "metadata": {},
   "source": [
    "Unsurprisingly, the location feature has a decent amount of overlap within the top 10. From this, and the number of missing values, we hypothesize that this feature does not have strong predictive power."
   ]
  },
  {
   "cell_type": "code",
   "execution_count": 244,
   "id": "c030c7f5",
   "metadata": {},
   "outputs": [
    {
     "data": {
      "text/plain": [
       "<Axes: xlabel='keyword_encoded', ylabel='Count'>"
      ]
     },
     "execution_count": 244,
     "metadata": {},
     "output_type": "execute_result"
    },
    {
     "data": {
      "image/png": "[encoded data removed]",
      "text/plain": [
       "<Figure size 640x480 with 1 Axes>"
      ]
     },
     "metadata": {},
     "output_type": "display_data"
    }
   ],
   "source": [
    "sns.histplot(train_df[train_df['keyword_encoded'].isin(train_df['keyword_encoded'].value_counts().nlargest(10).index)],\n",
    "             x = 'keyword_encoded', hue = 'target')"
   ]
  },
  {
   "cell_type": "code",
   "execution_count": 245,
   "id": "a4cf1b55",
   "metadata": {},
   "outputs": [
    {
     "data": {
      "text/html": [
       "<div>\n",
       "<style scoped>\n",
       "    .dataframe tbody tr th:only-of-type {\n",
       "        vertical-align: middle;\n",
       "    }\n",
       "\n",
       "    .dataframe tbody tr th {\n",
       "        vertical-align: top;\n",
       "    }\n",
       "\n",
       "    .dataframe thead th {\n",
       "        text-align: right;\n",
       "    }\n",
       "</style>\n",
       "<table border=\"1\" class=\"dataframe\">\n",
       "  <thead>\n",
       "    <tr style=\"text-align: right;\">\n",
       "      <th></th>\n",
       "      <th>keyword_target_0</th>\n",
       "      <th>count_0</th>\n",
       "      <th>keyword_target_1</th>\n",
       "      <th>count_1</th>\n",
       "    </tr>\n",
       "  </thead>\n",
       "  <tbody>\n",
       "    <tr>\n",
       "      <th>0</th>\n",
       "      <td>26</td>\n",
       "      <td>72</td>\n",
       "      <td>166</td>\n",
       "      <td>62</td>\n",
       "    </tr>\n",
       "    <tr>\n",
       "      <th>1</th>\n",
       "      <td>23</td>\n",
       "      <td>62</td>\n",
       "      <td>85</td>\n",
       "      <td>57</td>\n",
       "    </tr>\n",
       "    <tr>\n",
       "      <th>2</th>\n",
       "      <td>87</td>\n",
       "      <td>59</td>\n",
       "      <td>190</td>\n",
       "      <td>56</td>\n",
       "    </tr>\n",
       "    <tr>\n",
       "      <th>3</th>\n",
       "      <td>160</td>\n",
       "      <td>57</td>\n",
       "      <td>171</td>\n",
       "      <td>47</td>\n",
       "    </tr>\n",
       "    <tr>\n",
       "      <th>4</th>\n",
       "      <td>55</td>\n",
       "      <td>56</td>\n",
       "      <td>125</td>\n",
       "      <td>47</td>\n",
       "    </tr>\n",
       "    <tr>\n",
       "      <th>5</th>\n",
       "      <td>0</td>\n",
       "      <td>56</td>\n",
       "      <td>113</td>\n",
       "      <td>42</td>\n",
       "    </tr>\n",
       "    <tr>\n",
       "      <th>6</th>\n",
       "      <td>134</td>\n",
       "      <td>54</td>\n",
       "      <td>102</td>\n",
       "      <td>42</td>\n",
       "    </tr>\n",
       "    <tr>\n",
       "      <th>7</th>\n",
       "      <td>142</td>\n",
       "      <td>52</td>\n",
       "      <td>131</td>\n",
       "      <td>42</td>\n",
       "    </tr>\n",
       "    <tr>\n",
       "      <th>8</th>\n",
       "      <td>79</td>\n",
       "      <td>52</td>\n",
       "      <td>100</td>\n",
       "      <td>41</td>\n",
       "    </tr>\n",
       "    <tr>\n",
       "      <th>9</th>\n",
       "      <td>169</td>\n",
       "      <td>50</td>\n",
       "      <td>137</td>\n",
       "      <td>39</td>\n",
       "    </tr>\n",
       "  </tbody>\n",
       "</table>\n",
       "</div>"
      ],
      "text/plain": [
       "  keyword_target_0  count_0 keyword_target_1  count_1\n",
       "0               26       72              166       62\n",
       "1               23       62               85       57\n",
       "2               87       59              190       56\n",
       "3              160       57              171       47\n",
       "4               55       56              125       47\n",
       "5                0       56              113       42\n",
       "6              134       54              102       42\n",
       "7              142       52              131       42\n",
       "8               79       52              100       41\n",
       "9              169       50              137       39"
      ]
     },
     "execution_count": 245,
     "metadata": {},
     "output_type": "execute_result"
    }
   ],
   "source": [
    "top_10_keywords = pd.concat([train_df[(train_df['target']==0)&(train_df['keyword_encoded']!= 'unknownlocation')]['keyword_encoded'].value_counts().nlargest(10).reset_index(),\n",
    "train_df[(train_df['target']==1)&(train_df['keyword_encoded']!= 'unknownlocation')]['keyword_encoded'].value_counts().nlargest(10).reset_index()], axis = 1)\n",
    "top_10_keywords.columns = ['keyword_target_0', 'count_0', 'keyword_target_1', 'count_1']\n",
    "top_10_keywords"
   ]
  },
  {
   "cell_type": "markdown",
   "id": "6b58e99b",
   "metadata": {},
   "source": [
    "Unliked the location feature, the keyword feature shows a decent amount of seperation between labels. From this, we can hypothesize that the keyword feature has decent predictive power."
   ]
  },
  {
   "cell_type": "code",
   "execution_count": 246,
   "id": "a43e7ffd",
   "metadata": {},
   "outputs": [],
   "source": [
    "train_cat = train_df[['location_encoded','keyword_encoded']].values\n",
    "test_cat = test_df[['location_encoded','keyword_encoded']].values"
   ]
  },
  {
   "cell_type": "markdown",
   "id": "3e682178",
   "metadata": {},
   "source": [
    "### NLP on text field\n",
    "- Tokenizer will be used on the train set with OOV to handle out of vocabulary words\n",
    "- Remove url and mentions\n",
    "- Keep hashtags to help with disaster event identification\n",
    "- Preserve stop words to help with context in short tweets\n",
    "- Robust to emoji and special charecters and normalizes for tokenization"
   ]
  },
  {
   "cell_type": "code",
   "execution_count": 247,
   "id": "cbc8e2a6",
   "metadata": {},
   "outputs": [],
   "source": [
    "def preprocess_text(text):\n",
    "    if pd.isna(text):\n",
    "        return \"\"\n",
    "    # Lowercase\n",
    "    text = text.lower()\n",
    "    # Remove URLs (replace with 'url' or '')\n",
    "    text = re.sub(r'http\\S+|www\\S+|https\\S+', '', text, flags=re.MULTILINE)\n",
    "    # Remove @mentions\n",
    "    text = re.sub(r'@\\w+', '', text)\n",
    "    # Remove excessive punctuation, keep hashtags and basic punctuation\n",
    "    text = re.sub(r'[^\\w\\s#]', '', text)\n",
    "    # Normalize whitespace\n",
    "    text = re.sub(r'\\s+', ' ', text).strip()\n",
    "    return text"
   ]
  },
  {
   "cell_type": "code",
   "execution_count": 248,
   "id": "40fdc68f",
   "metadata": {},
   "outputs": [],
   "source": [
    "train_df['text_cleaned'] = train_df['text'].apply(preprocess_text)"
   ]
  },
  {
   "cell_type": "code",
   "execution_count": 249,
   "id": "7575d3b5",
   "metadata": {},
   "outputs": [],
   "source": [
    "tokenizer = Tokenizer()\n",
    "tokenizer.fit_on_texts(train_df['text_cleaned'])\n",
    "total_vocab_size = len(tokenizer.word_index) + 1  # +1 for padding token"
   ]
  },
  {
   "cell_type": "code",
   "execution_count": 250,
   "id": "b1c87863",
   "metadata": {},
   "outputs": [
    {
     "data": {
      "text/plain": [
       "15873"
      ]
     },
     "execution_count": 250,
     "metadata": {},
     "output_type": "execute_result"
    }
   ],
   "source": [
    "total_vocab_size"
   ]
  },
  {
   "cell_type": "code",
   "execution_count": 251,
   "id": "8ae6e410",
   "metadata": {},
   "outputs": [
    {
     "name": "stdout",
     "output_type": "stream",
     "text": [
      "13.680546433731775\n"
     ]
    }
   ],
   "source": [
    "print(train_df['text_cleaned'].str.split().str.len().mean())"
   ]
  },
  {
   "cell_type": "code",
   "execution_count": 252,
   "id": "0ba3e6ca",
   "metadata": {},
   "outputs": [],
   "source": [
    "max_words = 5000  # Vocabulary size (top 5000 words)\n",
    "max_len = 30      # Maximum sequence length (tweets are short)\n",
    "\n",
    "tokenizer = Tokenizer(num_words=max_words, oov_token='<OOV>')\n",
    "tokenizer.fit_on_texts(train_df['text_cleaned'])\n",
    "train_sequences = tokenizer.texts_to_sequences(train_df['text_cleaned'])\n",
    "train_padded = pad_sequences(train_sequences, maxlen=max_len, padding='post', truncating='post')\n",
    "\n",
    "\n",
    "test_df['text_cleaned'] = test_df['text'].apply(preprocess_text)\n",
    "test_sequences = tokenizer.texts_to_sequences(test_df['text_cleaned'])\n",
    "test_padded = pad_sequences(test_sequences, maxlen=max_len, padding='post', truncating='post')"
   ]
  },
  {
   "cell_type": "markdown",
   "id": "20288531",
   "metadata": {},
   "source": [
    "## Label Distribution"
   ]
  },
  {
   "cell_type": "code",
   "execution_count": 253,
   "id": "3ed3159d",
   "metadata": {},
   "outputs": [
    {
     "data": {
      "text/plain": [
       "([<matplotlib.axis.XTick at 0x7fb4f9bafe20>,\n",
       "  <matplotlib.axis.XTick at 0x7fb4f9baff10>],\n",
       " [Text(0, 0, 'Non-Disaster'), Text(1, 0, 'Disaster')])"
      ]
     },
     "execution_count": 253,
     "metadata": {},
     "output_type": "execute_result"
    },
    {
     "data": {
      "image/png": "[encoded data removed]",
      "text/plain": [
       "<Figure size 700x500 with 1 Axes>"
      ]
     },
     "metadata": {},
     "output_type": "display_data"
    }
   ],
   "source": [
    "plt.figure(figsize=(7, 5))\n",
    "sns.countplot(data=train_df, x='target')\n",
    "plt.title('Distribution of Disaster vs. Non-Disaster Tweets')\n",
    "plt.xlabel('Target (0: Non-Disaster, 1: Disaster)')\n",
    "plt.ylabel('Count')\n",
    "plt.xticks([0, 1], ['Non-Disaster', 'Disaster'])"
   ]
  },
  {
   "cell_type": "markdown",
   "id": "cf87fa79",
   "metadata": {},
   "source": [
    "Surprisingly, the labels are evenly distributed. This allows for simple training data architecture without more complicated synthetic training sets (ex. SMOTE, over or under sampling)"
   ]
  },
  {
   "cell_type": "markdown",
   "id": "905c7d1a",
   "metadata": {},
   "source": [
    "# Model Architecture\n",
    "\n",
    "LSTM\n",
    "- Well suited for sequential patterns and dependencies in short text data\n",
    "    - words in specific order could be important in tweets\n",
    "- Ability to retain context over sequences to better understand semantic meaning of phrases\n",
    "- Padding allows for variable length inputs"
   ]
  },
  {
   "cell_type": "markdown",
   "id": "1b4390d1",
   "metadata": {},
   "source": [
    "## Base Model\n",
    "- Multi-input text sequence + dense branch\n",
    "- embedding layer of 64 dimension\n",
    "- LSTM 32 layer (tanh activation) for padded text\n",
    "- Dense layer 16 for categorical features\n",
    "- Single sigmoid output\n",
    "- Adam optimizer, binary cross entropy loss, and accuracy metric\n",
    "- Early stopping 5 (epochs 50)\n",
    "- batch size 64"
   ]
  },
  {
   "cell_type": "code",
   "execution_count": 254,
   "id": "8616bd1a",
   "metadata": {},
   "outputs": [
    {
     "name": "stdout",
     "output_type": "stream",
     "text": [
      "\n",
      "Custom F1 score function that could be used:\n",
      "class F1Score(tf.keras.metrics.Metric):\n",
      "    def __init__(self, name='f1_score', **kwargs):\n",
      "        super().__init__(name=name, **kwargs)\n",
      "        self.precision = tf.keras.metrics.Precision()\n",
      "        self.recall = tf.keras.metrics.Recall()\n",
      "\n",
      "    def update_state(self, y_true, y_pred, sample_weight=None):\n",
      "        y_pred = tf.cast(y_pred > 0.5, tf.float32)  # Binary predictions\n",
      "        self.precision.update_state(y_true, y_pred, sample_weight)\n",
      "        self.recall.update_state(y_true, y_pred, sample_weight)\n",
      "\n",
      "    def result(self):\n",
      "        p = self.precision.result()\n",
      "        r = self.recall.result()\n",
      "        return 2 * ((p * r) / (p + r + tf.keras.backend.epsilon()))\n",
      "\n",
      "    def reset_state(self):\n",
      "        self.precision.reset_state()\n",
      "        self.recall.reset_state()\n",
      "\n"
     ]
    }
   ],
   "source": [
    "print('''\n",
    "Custom F1 score function that could be used:\n",
    "class F1Score(tf.keras.metrics.Metric):\n",
    "    def __init__(self, name='f1_score', **kwargs):\n",
    "        super().__init__(name=name, **kwargs)\n",
    "        self.precision = tf.keras.metrics.Precision()\n",
    "        self.recall = tf.keras.metrics.Recall()\n",
    "\n",
    "    def update_state(self, y_true, y_pred, sample_weight=None):\n",
    "        y_pred = tf.cast(y_pred > 0.5, tf.float32)  # Binary predictions\n",
    "        self.precision.update_state(y_true, y_pred, sample_weight)\n",
    "        self.recall.update_state(y_true, y_pred, sample_weight)\n",
    "\n",
    "    def result(self):\n",
    "        p = self.precision.result()\n",
    "        r = self.recall.result()\n",
    "        return 2 * ((p * r) / (p + r + tf.keras.backend.epsilon()))\n",
    "\n",
    "    def reset_state(self):\n",
    "        self.precision.reset_state()\n",
    "        self.recall.reset_state()\n",
    "''')"
   ]
  },
  {
   "cell_type": "code",
   "execution_count": 255,
   "id": "59cc1014",
   "metadata": {},
   "outputs": [
    {
     "name": "stdout",
     "output_type": "stream",
     "text": [
      "Epoch 1/50\n",
      "94/96 [============================>.] - ETA: 0s - loss: 6.6486 - accuracy: 0.5537INFO:tensorflow:Assets written to: best_model/assets\n"
     ]
    },
    {
     "name": "stderr",
     "output_type": "stream",
     "text": [
      "INFO:tensorflow:Assets written to: best_model/assets\n"
     ]
    },
    {
     "name": "stdout",
     "output_type": "stream",
     "text": [
      "96/96 [==============================] - 9s 63ms/step - loss: 6.5799 - accuracy: 0.5522 - val_loss: 1.1453 - val_accuracy: 0.5437\n",
      "Epoch 2/50\n",
      "95/96 [============================>.] - ETA: 0s - loss: 1.2818 - accuracy: 0.5275INFO:tensorflow:Assets written to: best_model/assets\n"
     ]
    },
    {
     "name": "stderr",
     "output_type": "stream",
     "text": [
      "INFO:tensorflow:Assets written to: best_model/assets\n"
     ]
    },
    {
     "name": "stdout",
     "output_type": "stream",
     "text": [
      "96/96 [==============================] - 6s 64ms/step - loss: 1.2812 - accuracy: 0.5274 - val_loss: 0.9786 - val_accuracy: 0.5502\n",
      "Epoch 3/50\n",
      "96/96 [==============================] - 2s 18ms/step - loss: 0.9861 - accuracy: 0.4846 - val_loss: 0.9459 - val_accuracy: 0.5502\n",
      "Epoch 4/50\n",
      "96/96 [==============================] - 2s 21ms/step - loss: 0.9126 - accuracy: 0.4913 - val_loss: 0.8490 - val_accuracy: 0.5502\n",
      "Epoch 5/50\n",
      "96/96 [==============================] - 2s 23ms/step - loss: 0.8537 - accuracy: 0.5110 - val_loss: 0.7641 - val_accuracy: 0.5437\n",
      "Epoch 6/50\n",
      "96/96 [==============================] - ETA: 0s - loss: 0.5970 - accuracy: 0.7401INFO:tensorflow:Assets written to: best_model/assets\n"
     ]
    },
    {
     "name": "stderr",
     "output_type": "stream",
     "text": [
      "INFO:tensorflow:Assets written to: best_model/assets\n"
     ]
    },
    {
     "name": "stdout",
     "output_type": "stream",
     "text": [
      "96/96 [==============================] - 5s 54ms/step - loss: 0.5970 - accuracy: 0.7401 - val_loss: 0.5860 - val_accuracy: 0.7420\n",
      "Epoch 7/50\n",
      "96/96 [==============================] - ETA: 0s - loss: 0.4236 - accuracy: 0.8424INFO:tensorflow:Assets written to: best_model/assets\n"
     ]
    },
    {
     "name": "stderr",
     "output_type": "stream",
     "text": [
      "INFO:tensorflow:Assets written to: best_model/assets\n"
     ]
    },
    {
     "name": "stdout",
     "output_type": "stream",
     "text": [
      "96/96 [==============================] - 5s 55ms/step - loss: 0.4236 - accuracy: 0.8424 - val_loss: 0.5507 - val_accuracy: 0.7597\n",
      "Epoch 8/50\n",
      "93/96 [============================>.] - ETA: 0s - loss: 0.3408 - accuracy: 0.8852INFO:tensorflow:Assets written to: best_model/assets\n"
     ]
    },
    {
     "name": "stderr",
     "output_type": "stream",
     "text": [
      "INFO:tensorflow:Assets written to: best_model/assets\n"
     ]
    },
    {
     "name": "stdout",
     "output_type": "stream",
     "text": [
      "96/96 [==============================] - 5s 55ms/step - loss: 0.3398 - accuracy: 0.8854 - val_loss: 0.5387 - val_accuracy: 0.7774\n",
      "Epoch 9/50\n",
      "96/96 [==============================] - 2s 18ms/step - loss: 0.3168 - accuracy: 0.9005 - val_loss: 0.6281 - val_accuracy: 0.7328\n",
      "Epoch 10/50\n",
      "96/96 [==============================] - 2s 21ms/step - loss: 0.3069 - accuracy: 0.9107 - val_loss: 0.6247 - val_accuracy: 0.7636\n",
      "Epoch 11/50\n",
      "96/96 [==============================] - 2s 19ms/step - loss: 0.3073 - accuracy: 0.9143 - val_loss: 0.7208 - val_accuracy: 0.7748\n",
      "Epoch 12/50\n",
      "96/96 [==============================] - 2s 21ms/step - loss: 0.2797 - accuracy: 0.9192 - val_loss: 0.9125 - val_accuracy: 0.7354\n",
      "Epoch 13/50\n",
      "96/96 [==============================] - 2s 20ms/step - loss: 0.2877 - accuracy: 0.9250 - val_loss: 0.6847 - val_accuracy: 0.7538\n"
     ]
    }
   ],
   "source": [
    "text_input = Input(shape=(max_len,), name='text_input')\n",
    "text_embed = Embedding(max_words, 64, input_length=max_len)(text_input)\n",
    "text_lstm = LSTM(32)(text_embed)\n",
    "cat_input = Input(shape=(train_cat.shape[1],), name='cat_input')\n",
    "cat_dense = Dense(16, activation='relu')(cat_input)\n",
    "combined = Concatenate()([text_lstm, cat_dense])\n",
    "output = Dense(16, activation='relu')(combined)\n",
    "output = Dense(1, activation='sigmoid')(output)\n",
    "model = Model(inputs=[text_input, cat_input], outputs=output)\n",
    "model.compile(\n",
    "    optimizer='adam',\n",
    "    loss='binary_crossentropy',\n",
    "    #metrics=['accuracy', F1Score()]\n",
    "    metrics = 'accuracy'\n",
    ")\n",
    "\n",
    "early_stopping = EarlyStopping(\n",
    "    #monitor='val_f1_score',    \n",
    "    monitor='val_accuracy',\n",
    "    mode='max',\n",
    "    patience=5,\n",
    "    restore_best_weights=True,\n",
    "    verbose=0\n",
    ")\n",
    "checkpoint = ModelCheckpoint(\n",
    "    'best_model',\n",
    "    #monitor='val_f1_score',\n",
    "    monitor = 'val_accuracy',\n",
    "    mode='max',\n",
    "    save_best_only=True,\n",
    "    verbose=0\n",
    ")\n",
    "\n",
    "history = model.fit(\n",
    "    [train_padded, train_cat],\n",
    "    train_df['target'].values,\n",
    "    epochs=50,\n",
    "    batch_size=64,\n",
    "    validation_split=0.2,\n",
    "    callbacks=[early_stopping, checkpoint],\n",
    "    verbose=1,\n",
    "    shuffle = False\n",
    ")\n"
   ]
  },
  {
   "cell_type": "code",
   "execution_count": 256,
   "id": "bc03e2a9",
   "metadata": {},
   "outputs": [
    {
     "data": {
      "text/plain": [
       "<matplotlib.legend.Legend at 0x7fb4e4584d00>"
      ]
     },
     "execution_count": 256,
     "metadata": {},
     "output_type": "execute_result"
    },
    {
     "data": {
      "image/png": "[encoded data removed]",
      "text/plain": [
       "<Figure size 800x600 with 1 Axes>"
      ]
     },
     "metadata": {},
     "output_type": "display_data"
    }
   ],
   "source": [
    "plt.figure(figsize=(8, 6))\n",
    "plt.plot(history.history['accuracy'], label='Training Accuracy')\n",
    "plt.plot(history.history['val_accuracy'], label='Validation Accuracy')\n",
    "plt.title('Accuracy per Epoch')\n",
    "plt.xlabel('Epoch')\n",
    "plt.ylabel('Accuracy')\n",
    "plt.legend()"
   ]
  },
  {
   "cell_type": "code",
   "execution_count": 257,
   "id": "f4eef8aa",
   "metadata": {},
   "outputs": [
    {
     "name": "stdout",
     "output_type": "stream",
     "text": [
      "191/191 [==============================] - 1s 4ms/step\n",
      "48/48 [==============================] - 0s 5ms/step\n",
      "\n",
      "Training Confusion Matrix:\n",
      "[[3422  107]\n",
      " [ 550 2012]]\n",
      "\n",
      "Training Classification Report:\n",
      "              precision    recall  f1-score   support\n",
      "\n",
      "Non-Disaster       0.86      0.97      0.91      3529\n",
      "    Disaster       0.95      0.79      0.86      2562\n",
      "\n",
      "    accuracy                           0.89      6091\n",
      "   macro avg       0.91      0.88      0.89      6091\n",
      "weighted avg       0.90      0.89      0.89      6091\n",
      "\n",
      "\n",
      "Validation Confusion Matrix:\n",
      "[[719  94]\n",
      " [245 464]]\n",
      "\n",
      "Validation Classification Report:\n",
      "              precision    recall  f1-score   support\n",
      "\n",
      "Non-Disaster       0.75      0.88      0.81       813\n",
      "    Disaster       0.83      0.65      0.73       709\n",
      "\n",
      "    accuracy                           0.78      1522\n",
      "   macro avg       0.79      0.77      0.77      1522\n",
      "weighted avg       0.79      0.78      0.77      1522\n",
      "\n",
      "\n",
      "Training Metrics:\n",
      "F1: 0.8596\n",
      "Accuracy: 0.8921\n",
      "Precision: 0.9495\n",
      "Recall: 0.7853\n",
      "\n",
      "Validation Metrics:\n",
      "F1: 0.7324\n",
      "Accuracy: 0.7773\n",
      "Precision: 0.8315\n",
      "Recall: 0.6544\n"
     ]
    }
   ],
   "source": [
    "n_samples = len(train_df)\n",
    "val_size = int(0.2 * n_samples)\n",
    "train_size = n_samples - val_size\n",
    "\n",
    "train_indices = np.arange(train_size)\n",
    "val_indices = np.arange(train_size, n_samples)\n",
    "\n",
    "train_padded_split = train_padded[train_indices]\n",
    "train_cat_split = train_cat[train_indices]\n",
    "train_labels = train_df['target'].values[train_indices]\n",
    "\n",
    "val_padded_split = train_padded[val_indices]\n",
    "val_cat_split = train_cat[val_indices]\n",
    "val_labels = train_df['target'].values[val_indices]\n",
    "\n",
    "train_preds = (model.predict([train_padded_split, train_cat_split]) > 0.5).astype(int)\n",
    "val_preds = (model.predict([val_padded_split, val_cat_split]) > 0.5).astype(int)\n",
    "\n",
    "print(\"\\nTraining Confusion Matrix:\")\n",
    "print(confusion_matrix(train_labels, train_preds))\n",
    "print(\"\\nTraining Classification Report:\")\n",
    "print(classification_report(train_labels, train_preds, target_names=['Non-Disaster', 'Disaster']))\n",
    "\n",
    "print(\"\\nValidation Confusion Matrix:\")\n",
    "print(confusion_matrix(val_labels, val_preds))\n",
    "print(\"\\nValidation Classification Report:\")\n",
    "print(classification_report(val_labels, val_preds, target_names=['Non-Disaster', 'Disaster']))\n",
    "\n",
    "train_metrics = {\n",
    "    'F1': f1_score(train_labels, train_preds),\n",
    "    'Accuracy': accuracy_score(train_labels, train_preds),\n",
    "    'Precision': precision_score(train_labels, train_preds),\n",
    "    'Recall': recall_score(train_labels, train_preds)\n",
    "}\n",
    "val_metrics = {\n",
    "    'F1': f1_score(val_labels, val_preds),\n",
    "    'Accuracy': accuracy_score(val_labels, val_preds),\n",
    "    'Precision': precision_score(val_labels, val_preds),\n",
    "    'Recall': recall_score(val_labels, val_preds)\n",
    "}\n",
    "\n",
    "print(\"\\nTraining Metrics:\")\n",
    "for metric, value in train_metrics.items():\n",
    "    print(f\"{metric}: {value:.4f}\")\n",
    "\n",
    "print(\"\\nValidation Metrics:\")\n",
    "for metric, value in val_metrics.items():\n",
    "    print(f\"{metric}: {value:.4f}\")"
   ]
  },
  {
   "cell_type": "markdown",
   "id": "ce3f01c8",
   "metadata": {},
   "source": [
    "The base model is struggling with some overfitting, seen by the learning curves and the gap (~8%) in f1 score between training and validation. Some potential reasons for overfitting:\n",
    "- relatively small data set\n",
    "- lack of sufficient regularization (no drop out of L2)\n",
    "- lack of class weights\n",
    "\n",
    "However, the gap does not appear to be too large. A gridsearch will now be conducted to try and improve val f1 score."
   ]
  },
  {
   "cell_type": "markdown",
   "id": "87c544df",
   "metadata": {},
   "source": [
    "## GridSearch\n",
    "- Batch Size: 32, 64\n",
    "- Embedding Dimension: 32, 64\n",
    "- Learning Rate: .001, .0005, .0001"
   ]
  },
  {
   "cell_type": "code",
   "execution_count": 264,
   "id": "dbac6457",
   "metadata": {},
   "outputs": [],
   "source": [
    "param_grid = {\n",
    "    'batch_size': [32, 64],\n",
    "    'embedding_dim': [32, 64],\n",
    "    'learning_rate': [0.001, 0.0005, 0.0001],\n",
    "}"
   ]
  },
  {
   "cell_type": "code",
   "execution_count": 265,
   "id": "d562d6b7",
   "metadata": {},
   "outputs": [
    {
     "name": "stdout",
     "output_type": "stream",
     "text": [
      "\n",
      "Testing parameters: {'batch_size': 32, 'embedding_dim': 32, 'learning_rate': 0.001}\n",
      "Epoch 1/50\n",
      "190/191 [============================>.] - ETA: 0s - loss: 0.8191 - accuracy: 0.5118INFO:tensorflow:Assets written to: model_32_32_0.001/assets\n"
     ]
    },
    {
     "name": "stderr",
     "output_type": "stream",
     "text": [
      "INFO:tensorflow:Assets written to: model_32_32_0.001/assets\n"
     ]
    },
    {
     "name": "stdout",
     "output_type": "stream",
     "text": [
      "191/191 [==============================] - 17s 63ms/step - loss: 0.8196 - accuracy: 0.5118 - val_loss: 1.2730 - val_accuracy: 0.5345\n",
      "Epoch 2/50\n",
      "191/191 [==============================] - ETA: 0s - loss: 0.7079 - accuracy: 0.6542INFO:tensorflow:Assets written to: model_32_32_0.001/assets\n"
     ]
    },
    {
     "name": "stderr",
     "output_type": "stream",
     "text": [
      "INFO:tensorflow:Assets written to: model_32_32_0.001/assets\n"
     ]
    },
    {
     "name": "stdout",
     "output_type": "stream",
     "text": [
      "191/191 [==============================] - 12s 63ms/step - loss: 0.7079 - accuracy: 0.6542 - val_loss: 0.6644 - val_accuracy: 0.7308\n",
      "Epoch 3/50\n",
      "190/191 [============================>.] - ETA: 0s - loss: 0.4637 - accuracy: 0.8061INFO:tensorflow:Assets written to: model_32_32_0.001/assets\n"
     ]
    },
    {
     "name": "stderr",
     "output_type": "stream",
     "text": [
      "INFO:tensorflow:Assets written to: model_32_32_0.001/assets\n"
     ]
    },
    {
     "name": "stdout",
     "output_type": "stream",
     "text": [
      "191/191 [==============================] - 11s 58ms/step - loss: 0.4631 - accuracy: 0.8064 - val_loss: 0.6458 - val_accuracy: 0.7886\n",
      "Epoch 4/50\n",
      "191/191 [==============================] - 3s 17ms/step - loss: 0.3679 - accuracy: 0.8655 - val_loss: 0.6411 - val_accuracy: 0.7649\n",
      "Epoch 5/50\n",
      "191/191 [==============================] - 4s 19ms/step - loss: 0.3724 - accuracy: 0.8654 - val_loss: 0.7050 - val_accuracy: 0.7557\n",
      "Epoch 6/50\n",
      "191/191 [==============================] - 3s 17ms/step - loss: 0.3008 - accuracy: 0.8985 - val_loss: 0.6328 - val_accuracy: 0.7741\n",
      "Epoch 7/50\n",
      "191/191 [==============================] - 4s 19ms/step - loss: 0.2624 - accuracy: 0.9204 - val_loss: 0.6907 - val_accuracy: 0.7695\n",
      "Epoch 8/50\n",
      "191/191 [==============================] - 3s 18ms/step - loss: 0.2667 - accuracy: 0.9230 - val_loss: 0.6933 - val_accuracy: 0.7656\n",
      "191/191 [==============================] - 1s 5ms/step\n",
      "48/48 [==============================] - 0s 5ms/step\n",
      "Training F1: 0.8074, Validation F1: 0.7424, F1 Gap: 0.0650\n",
      "INFO:tensorflow:Assets written to: best_model_grid/assets\n"
     ]
    },
    {
     "name": "stderr",
     "output_type": "stream",
     "text": [
      "INFO:tensorflow:Assets written to: best_model_grid/assets\n"
     ]
    },
    {
     "name": "stdout",
     "output_type": "stream",
     "text": [
      "\n",
      "Testing parameters: {'batch_size': 32, 'embedding_dim': 32, 'learning_rate': 0.0005}\n",
      "Epoch 1/50\n",
      "191/191 [==============================] - ETA: 0s - loss: 0.8209 - accuracy: 0.5067INFO:tensorflow:Assets written to: model_32_32_0.0005/assets\n"
     ]
    },
    {
     "name": "stderr",
     "output_type": "stream",
     "text": [
      "INFO:tensorflow:Assets written to: model_32_32_0.0005/assets\n"
     ]
    },
    {
     "name": "stdout",
     "output_type": "stream",
     "text": [
      "191/191 [==============================] - 11s 43ms/step - loss: 0.8209 - accuracy: 0.5067 - val_loss: 0.9706 - val_accuracy: 0.5332\n",
      "Epoch 2/50\n",
      "190/191 [============================>.] - ETA: 0s - loss: 0.9024 - accuracy: 0.4852INFO:tensorflow:Assets written to: model_32_32_0.0005/assets\n"
     ]
    },
    {
     "name": "stderr",
     "output_type": "stream",
     "text": [
      "INFO:tensorflow:Assets written to: model_32_32_0.0005/assets\n"
     ]
    },
    {
     "name": "stdout",
     "output_type": "stream",
     "text": [
      "191/191 [==============================] - 7s 38ms/step - loss: 0.9022 - accuracy: 0.4852 - val_loss: 0.9018 - val_accuracy: 0.5345\n",
      "Epoch 3/50\n",
      "190/191 [============================>.] - ETA: 0s - loss: 0.6926 - accuracy: 0.6831INFO:tensorflow:Assets written to: model_32_32_0.0005/assets\n"
     ]
    },
    {
     "name": "stderr",
     "output_type": "stream",
     "text": [
      "INFO:tensorflow:Assets written to: model_32_32_0.0005/assets\n"
     ]
    },
    {
     "name": "stdout",
     "output_type": "stream",
     "text": [
      "191/191 [==============================] - 7s 35ms/step - loss: 0.6917 - accuracy: 0.6836 - val_loss: 0.5192 - val_accuracy: 0.7722\n",
      "Epoch 4/50\n",
      "190/191 [============================>.] - ETA: 0s - loss: 0.4148 - accuracy: 0.8342INFO:tensorflow:Assets written to: model_32_32_0.0005/assets\n"
     ]
    },
    {
     "name": "stderr",
     "output_type": "stream",
     "text": [
      "INFO:tensorflow:Assets written to: model_32_32_0.0005/assets\n"
     ]
    },
    {
     "name": "stdout",
     "output_type": "stream",
     "text": [
      "191/191 [==============================] - 7s 37ms/step - loss: 0.4143 - accuracy: 0.8345 - val_loss: 0.5190 - val_accuracy: 0.7768\n",
      "Epoch 5/50\n",
      "191/191 [==============================] - 3s 18ms/step - loss: 0.3251 - accuracy: 0.8806 - val_loss: 0.7813 - val_accuracy: 0.7360\n",
      "Epoch 6/50\n",
      "191/191 [==============================] - 3s 18ms/step - loss: 0.2975 - accuracy: 0.8939 - val_loss: 0.6355 - val_accuracy: 0.7505\n",
      "Epoch 7/50\n",
      "191/191 [==============================] - 3s 18ms/step - loss: 0.2663 - accuracy: 0.9074 - val_loss: 0.5957 - val_accuracy: 0.7702\n",
      "Epoch 8/50\n",
      "191/191 [==============================] - 3s 17ms/step - loss: 0.2459 - accuracy: 0.9154 - val_loss: 0.6479 - val_accuracy: 0.7722\n",
      "Epoch 9/50\n",
      "191/191 [==============================] - 3s 17ms/step - loss: 0.2098 - accuracy: 0.9315 - val_loss: 0.6795 - val_accuracy: 0.7748\n",
      "191/191 [==============================] - 1s 5ms/step\n",
      "48/48 [==============================] - 0s 6ms/step\n",
      "Training F1: 0.8486, Validation F1: 0.7580, F1 Gap: 0.0906\n",
      "INFO:tensorflow:Assets written to: best_model_grid/assets\n"
     ]
    },
    {
     "name": "stderr",
     "output_type": "stream",
     "text": [
      "INFO:tensorflow:Assets written to: best_model_grid/assets\n"
     ]
    },
    {
     "name": "stdout",
     "output_type": "stream",
     "text": [
      "\n",
      "Testing parameters: {'batch_size': 32, 'embedding_dim': 32, 'learning_rate': 0.0001}\n",
      "Epoch 1/50\n",
      "191/191 [==============================] - ETA: 0s - loss: 5.2527 - accuracy: 0.5562INFO:tensorflow:Assets written to: model_32_32_0.0001/assets\n"
     ]
    },
    {
     "name": "stderr",
     "output_type": "stream",
     "text": [
      "INFO:tensorflow:Assets written to: model_32_32_0.0001/assets\n"
     ]
    },
    {
     "name": "stdout",
     "output_type": "stream",
     "text": [
      "191/191 [==============================] - 10s 36ms/step - loss: 5.2527 - accuracy: 0.5562 - val_loss: 0.9185 - val_accuracy: 0.4747\n",
      "Epoch 2/50\n",
      "189/191 [============================>.] - ETA: 0s - loss: 1.8541 - accuracy: 0.5263INFO:tensorflow:Assets written to: model_32_32_0.0001/assets\n"
     ]
    },
    {
     "name": "stderr",
     "output_type": "stream",
     "text": [
      "INFO:tensorflow:Assets written to: model_32_32_0.0001/assets\n"
     ]
    },
    {
     "name": "stdout",
     "output_type": "stream",
     "text": [
      "191/191 [==============================] - 8s 42ms/step - loss: 1.8465 - accuracy: 0.5259 - val_loss: 0.7635 - val_accuracy: 0.5213\n",
      "Epoch 3/50\n",
      "190/191 [============================>.] - ETA: 0s - loss: 1.3190 - accuracy: 0.5038INFO:tensorflow:Assets written to: model_32_32_0.0001/assets\n"
     ]
    },
    {
     "name": "stderr",
     "output_type": "stream",
     "text": [
      "INFO:tensorflow:Assets written to: model_32_32_0.0001/assets\n"
     ]
    },
    {
     "name": "stdout",
     "output_type": "stream",
     "text": [
      "191/191 [==============================] - 7s 36ms/step - loss: 1.3181 - accuracy: 0.5038 - val_loss: 0.7402 - val_accuracy: 0.5279\n",
      "Epoch 4/50\n",
      "189/191 [============================>.] - ETA: 0s - loss: 1.0303 - accuracy: 0.5103INFO:tensorflow:Assets written to: model_32_32_0.0001/assets\n"
     ]
    },
    {
     "name": "stderr",
     "output_type": "stream",
     "text": [
      "INFO:tensorflow:Assets written to: model_32_32_0.0001/assets\n"
     ]
    },
    {
     "name": "stdout",
     "output_type": "stream",
     "text": [
      "191/191 [==============================] - 7s 36ms/step - loss: 1.0283 - accuracy: 0.5092 - val_loss: 0.7234 - val_accuracy: 0.5345\n",
      "Epoch 5/50\n",
      "191/191 [==============================] - 3s 17ms/step - loss: 0.8573 - accuracy: 0.5381 - val_loss: 0.7274 - val_accuracy: 0.5345\n",
      "Epoch 6/50\n",
      "190/191 [============================>.] - ETA: 0s - loss: 0.7734 - accuracy: 0.5345INFO:tensorflow:Assets written to: model_32_32_0.0001/assets\n"
     ]
    },
    {
     "name": "stderr",
     "output_type": "stream",
     "text": [
      "INFO:tensorflow:Assets written to: model_32_32_0.0001/assets\n"
     ]
    },
    {
     "name": "stdout",
     "output_type": "stream",
     "text": [
      "191/191 [==============================] - 7s 35ms/step - loss: 0.7733 - accuracy: 0.5345 - val_loss: 0.7318 - val_accuracy: 0.5351\n",
      "Epoch 7/50\n",
      "190/191 [============================>.] - ETA: 0s - loss: 0.7278 - accuracy: 0.5521INFO:tensorflow:Assets written to: model_32_32_0.0001/assets\n"
     ]
    },
    {
     "name": "stderr",
     "output_type": "stream",
     "text": [
      "INFO:tensorflow:Assets written to: model_32_32_0.0001/assets\n"
     ]
    },
    {
     "name": "stdout",
     "output_type": "stream",
     "text": [
      "191/191 [==============================] - 7s 36ms/step - loss: 0.7277 - accuracy: 0.5522 - val_loss: 0.7220 - val_accuracy: 0.5437\n",
      "Epoch 8/50\n",
      "190/191 [============================>.] - ETA: 0s - loss: 0.5840 - accuracy: 0.7113INFO:tensorflow:Assets written to: model_32_32_0.0001/assets\n"
     ]
    },
    {
     "name": "stderr",
     "output_type": "stream",
     "text": [
      "INFO:tensorflow:Assets written to: model_32_32_0.0001/assets\n"
     ]
    },
    {
     "name": "stdout",
     "output_type": "stream",
     "text": [
      "191/191 [==============================] - 8s 41ms/step - loss: 0.5834 - accuracy: 0.7118 - val_loss: 0.5241 - val_accuracy: 0.7623\n",
      "Epoch 9/50\n",
      "188/191 [============================>.] - ETA: 0s - loss: 0.4257 - accuracy: 0.8290INFO:tensorflow:Assets written to: model_32_32_0.0001/assets\n"
     ]
    },
    {
     "name": "stderr",
     "output_type": "stream",
     "text": [
      "INFO:tensorflow:Assets written to: model_32_32_0.0001/assets\n"
     ]
    },
    {
     "name": "stdout",
     "output_type": "stream",
     "text": [
      "191/191 [==============================] - 7s 37ms/step - loss: 0.4250 - accuracy: 0.8294 - val_loss: 0.5102 - val_accuracy: 0.7689\n",
      "Epoch 10/50\n",
      "189/191 [============================>.] - ETA: 0s - loss: 0.3745 - accuracy: 0.8590INFO:tensorflow:Assets written to: model_32_32_0.0001/assets\n"
     ]
    },
    {
     "name": "stderr",
     "output_type": "stream",
     "text": [
      "INFO:tensorflow:Assets written to: model_32_32_0.0001/assets\n"
     ]
    },
    {
     "name": "stdout",
     "output_type": "stream",
     "text": [
      "191/191 [==============================] - 7s 35ms/step - loss: 0.3735 - accuracy: 0.8594 - val_loss: 0.5135 - val_accuracy: 0.7728\n",
      "Epoch 11/50\n",
      "191/191 [==============================] - 3s 17ms/step - loss: 0.3358 - accuracy: 0.8770 - val_loss: 0.5272 - val_accuracy: 0.7728\n",
      "Epoch 12/50\n",
      "191/191 [==============================] - 4s 19ms/step - loss: 0.3050 - accuracy: 0.8923 - val_loss: 0.5551 - val_accuracy: 0.7630\n",
      "Epoch 13/50\n",
      "191/191 [==============================] - 3s 17ms/step - loss: 0.2758 - accuracy: 0.9067 - val_loss: 0.5704 - val_accuracy: 0.7663\n",
      "Epoch 14/50\n",
      "191/191 [==============================] - 3s 18ms/step - loss: 0.2553 - accuracy: 0.9186 - val_loss: 0.6135 - val_accuracy: 0.7571\n",
      "Epoch 15/50\n",
      "191/191 [==============================] - 4s 20ms/step - loss: 0.2432 - accuracy: 0.9223 - val_loss: 0.6405 - val_accuracy: 0.7603\n",
      "191/191 [==============================] - 1s 5ms/step\n",
      "48/48 [==============================] - 1s 10ms/step\n",
      "Training F1: 0.8444, Validation F1: 0.7422, F1 Gap: 0.1023\n",
      "\n",
      "Testing parameters: {'batch_size': 32, 'embedding_dim': 64, 'learning_rate': 0.001}\n",
      "Epoch 1/50\n",
      "190/191 [============================>.] - ETA: 0s - loss: 1.0403 - accuracy: 0.5437INFO:tensorflow:Assets written to: model_32_64_0.001/assets\n"
     ]
    },
    {
     "name": "stderr",
     "output_type": "stream",
     "text": [
      "INFO:tensorflow:Assets written to: model_32_64_0.001/assets\n"
     ]
    },
    {
     "name": "stdout",
     "output_type": "stream",
     "text": [
      "191/191 [==============================] - 11s 42ms/step - loss: 1.0406 - accuracy: 0.5437 - val_loss: 0.9878 - val_accuracy: 0.5522\n",
      "Epoch 2/50\n",
      "191/191 [==============================] - 4s 20ms/step - loss: 0.7348 - accuracy: 0.5179 - val_loss: 0.8290 - val_accuracy: 0.5391\n",
      "Epoch 3/50\n",
      "191/191 [==============================] - 4s 20ms/step - loss: 0.7138 - accuracy: 0.5381 - val_loss: 0.7687 - val_accuracy: 0.5391\n",
      "Epoch 4/50\n",
      "191/191 [==============================] - ETA: 0s - loss: 0.6974 - accuracy: 0.5658INFO:tensorflow:Assets written to: model_32_64_0.001/assets\n"
     ]
    },
    {
     "name": "stderr",
     "output_type": "stream",
     "text": [
      "INFO:tensorflow:Assets written to: model_32_64_0.001/assets\n"
     ]
    },
    {
     "name": "stdout",
     "output_type": "stream",
     "text": [
      "191/191 [==============================] - 7s 38ms/step - loss: 0.6974 - accuracy: 0.5658 - val_loss: 0.7870 - val_accuracy: 0.6080\n",
      "Epoch 5/50\n",
      "191/191 [==============================] - 4s 19ms/step - loss: 0.6820 - accuracy: 0.5913 - val_loss: 0.8548 - val_accuracy: 0.5456\n",
      "Epoch 6/50\n",
      "190/191 [============================>.] - ETA: 0s - loss: 0.6561 - accuracy: 0.6367INFO:tensorflow:Assets written to: model_32_64_0.001/assets\n"
     ]
    },
    {
     "name": "stderr",
     "output_type": "stream",
     "text": [
      "INFO:tensorflow:Assets written to: model_32_64_0.001/assets\n"
     ]
    },
    {
     "name": "stdout",
     "output_type": "stream",
     "text": [
      "191/191 [==============================] - 8s 44ms/step - loss: 0.6560 - accuracy: 0.6369 - val_loss: 0.6800 - val_accuracy: 0.6251\n",
      "Epoch 7/50\n",
      "189/191 [============================>.] - ETA: 0s - loss: 0.5911 - accuracy: 0.7206INFO:tensorflow:Assets written to: model_32_64_0.001/assets\n"
     ]
    },
    {
     "name": "stderr",
     "output_type": "stream",
     "text": [
      "INFO:tensorflow:Assets written to: model_32_64_0.001/assets\n"
     ]
    },
    {
     "name": "stdout",
     "output_type": "stream",
     "text": [
      "191/191 [==============================] - 8s 44ms/step - loss: 0.5899 - accuracy: 0.7218 - val_loss: 0.6608 - val_accuracy: 0.6934\n",
      "Epoch 8/50\n",
      "191/191 [==============================] - 4s 19ms/step - loss: 0.5812 - accuracy: 0.7343 - val_loss: 0.7301 - val_accuracy: 0.6087\n",
      "Epoch 9/50\n",
      "191/191 [==============================] - 4s 22ms/step - loss: 0.5737 - accuracy: 0.7314 - val_loss: 0.7199 - val_accuracy: 0.6034\n",
      "Epoch 10/50\n",
      "191/191 [==============================] - 4s 22ms/step - loss: 0.5579 - accuracy: 0.7450 - val_loss: 0.7212 - val_accuracy: 0.6100\n",
      "Epoch 11/50\n",
      "191/191 [==============================] - 5s 24ms/step - loss: 0.5484 - accuracy: 0.7511 - val_loss: 0.6888 - val_accuracy: 0.6376\n",
      "Epoch 12/50\n",
      "191/191 [==============================] - 4s 20ms/step - loss: 0.5427 - accuracy: 0.7557 - val_loss: 0.6977 - val_accuracy: 0.6284\n",
      "191/191 [==============================] - 2s 6ms/step\n",
      "48/48 [==============================] - 0s 6ms/step\n",
      "Training F1: 0.7287, Validation F1: 0.6905, F1 Gap: 0.0382\n",
      "\n",
      "Testing parameters: {'batch_size': 32, 'embedding_dim': 64, 'learning_rate': 0.0005}\n",
      "Epoch 1/50\n",
      "190/191 [============================>.] - ETA: 0s - loss: 1.7723 - accuracy: 0.5207INFO:tensorflow:Assets written to: model_32_64_0.0005/assets\n"
     ]
    },
    {
     "name": "stderr",
     "output_type": "stream",
     "text": [
      "INFO:tensorflow:Assets written to: model_32_64_0.0005/assets\n"
     ]
    },
    {
     "name": "stdout",
     "output_type": "stream",
     "text": [
      "191/191 [==============================] - 11s 43ms/step - loss: 1.7709 - accuracy: 0.5207 - val_loss: 0.9222 - val_accuracy: 0.5345\n",
      "Epoch 2/50\n",
      "191/191 [==============================] - 4s 21ms/step - loss: 0.9682 - accuracy: 0.4897 - val_loss: 0.9711 - val_accuracy: 0.5345\n",
      "Epoch 3/50\n",
      "190/191 [============================>.] - ETA: 0s - loss: 0.7599 - accuracy: 0.6408INFO:tensorflow:Assets written to: model_32_64_0.0005/assets\n"
     ]
    },
    {
     "name": "stderr",
     "output_type": "stream",
     "text": [
      "INFO:tensorflow:Assets written to: model_32_64_0.0005/assets\n"
     ]
    },
    {
     "name": "stdout",
     "output_type": "stream",
     "text": [
      "191/191 [==============================] - 8s 40ms/step - loss: 0.7590 - accuracy: 0.6414 - val_loss: 0.5344 - val_accuracy: 0.7774\n",
      "Epoch 4/50\n",
      "189/191 [============================>.] - ETA: 0s - loss: 0.4623 - accuracy: 0.8261INFO:tensorflow:Assets written to: model_32_64_0.0005/assets\n"
     ]
    },
    {
     "name": "stderr",
     "output_type": "stream",
     "text": [
      "INFO:tensorflow:Assets written to: model_32_64_0.0005/assets\n"
     ]
    },
    {
     "name": "stdout",
     "output_type": "stream",
     "text": [
      "191/191 [==============================] - 8s 39ms/step - loss: 0.4611 - accuracy: 0.8264 - val_loss: 0.4854 - val_accuracy: 0.7899\n",
      "Epoch 5/50\n",
      "191/191 [==============================] - 4s 20ms/step - loss: 0.3428 - accuracy: 0.8722 - val_loss: 0.6233 - val_accuracy: 0.7544\n",
      "Epoch 6/50\n",
      "191/191 [==============================] - 4s 22ms/step - loss: 0.2993 - accuracy: 0.8990 - val_loss: 0.6299 - val_accuracy: 0.7722\n",
      "Epoch 7/50\n",
      "191/191 [==============================] - 4s 20ms/step - loss: 0.2811 - accuracy: 0.9097 - val_loss: 0.7116 - val_accuracy: 0.7879\n",
      "Epoch 8/50\n",
      "191/191 [==============================] - 4s 18ms/step - loss: 0.2425 - accuracy: 0.9279 - val_loss: 0.6243 - val_accuracy: 0.7807\n",
      "Epoch 9/50\n",
      "191/191 [==============================] - 4s 22ms/step - loss: 0.2050 - accuracy: 0.9384 - val_loss: 0.6379 - val_accuracy: 0.7643\n",
      "191/191 [==============================] - 2s 6ms/step\n",
      "48/48 [==============================] - 0s 5ms/step\n",
      "Training F1: 0.8205, Validation F1: 0.7647, F1 Gap: 0.0558\n",
      "INFO:tensorflow:Assets written to: best_model_grid/assets\n"
     ]
    },
    {
     "name": "stderr",
     "output_type": "stream",
     "text": [
      "INFO:tensorflow:Assets written to: best_model_grid/assets\n"
     ]
    },
    {
     "name": "stdout",
     "output_type": "stream",
     "text": [
      "\n",
      "Testing parameters: {'batch_size': 32, 'embedding_dim': 64, 'learning_rate': 0.0001}\n",
      "Epoch 1/50\n",
      "189/191 [============================>.] - ETA: 0s - loss: 24.3697 - accuracy: 0.4190INFO:tensorflow:Assets written to: model_32_64_0.0001/assets\n"
     ]
    },
    {
     "name": "stderr",
     "output_type": "stream",
     "text": [
      "INFO:tensorflow:Assets written to: model_32_64_0.0001/assets\n"
     ]
    },
    {
     "name": "stdout",
     "output_type": "stream",
     "text": [
      "191/191 [==============================] - 13s 41ms/step - loss: 24.2547 - accuracy: 0.4205 - val_loss: 10.8648 - val_accuracy: 0.4767\n",
      "Epoch 2/50\n",
      "189/191 [============================>.] - ETA: 0s - loss: 9.1986 - accuracy: 0.4418INFO:tensorflow:Assets written to: model_32_64_0.0001/assets\n"
     ]
    },
    {
     "name": "stderr",
     "output_type": "stream",
     "text": [
      "INFO:tensorflow:Assets written to: model_32_64_0.0001/assets\n"
     ]
    },
    {
     "name": "stdout",
     "output_type": "stream",
     "text": [
      "191/191 [==============================] - 8s 41ms/step - loss: 9.1525 - accuracy: 0.4412 - val_loss: 2.4059 - val_accuracy: 0.5502\n",
      "Epoch 3/50\n",
      "190/191 [============================>.] - ETA: 0s - loss: 2.4705 - accuracy: 0.4944INFO:tensorflow:Assets written to: model_32_64_0.0001/assets\n"
     ]
    },
    {
     "name": "stderr",
     "output_type": "stream",
     "text": [
      "INFO:tensorflow:Assets written to: model_32_64_0.0001/assets\n"
     ]
    },
    {
     "name": "stdout",
     "output_type": "stream",
     "text": [
      "191/191 [==============================] - 8s 41ms/step - loss: 2.4685 - accuracy: 0.4944 - val_loss: 0.9556 - val_accuracy: 0.5548\n",
      "Epoch 4/50\n",
      "191/191 [==============================] - 4s 20ms/step - loss: 1.5063 - accuracy: 0.4898 - val_loss: 0.9027 - val_accuracy: 0.4754\n",
      "Epoch 5/50\n",
      "191/191 [==============================] - 4s 21ms/step - loss: 1.0489 - accuracy: 0.5031 - val_loss: 0.8728 - val_accuracy: 0.5121\n",
      "Epoch 6/50\n",
      "191/191 [==============================] - 4s 20ms/step - loss: 0.9167 - accuracy: 0.5046 - val_loss: 0.8552 - val_accuracy: 0.5115\n",
      "Epoch 7/50\n",
      "191/191 [==============================] - 4s 20ms/step - loss: 0.8634 - accuracy: 0.5064 - val_loss: 0.8432 - val_accuracy: 0.5076\n",
      "Epoch 8/50\n",
      "191/191 [==============================] - 4s 20ms/step - loss: 0.8341 - accuracy: 0.5103 - val_loss: 0.8348 - val_accuracy: 0.5062\n",
      "191/191 [==============================] - 2s 5ms/step\n",
      "48/48 [==============================] - 0s 6ms/step\n",
      "Training F1: 0.5355, Validation F1: 0.1008, F1 Gap: 0.4347\n",
      "\n",
      "Testing parameters: {'batch_size': 64, 'embedding_dim': 32, 'learning_rate': 0.001}\n",
      "Epoch 1/50\n",
      "95/96 [============================>.] - ETA: 0s - loss: 3.6597 - accuracy: 0.5373INFO:tensorflow:Assets written to: model_64_32_0.001/assets\n"
     ]
    },
    {
     "name": "stderr",
     "output_type": "stream",
     "text": [
      "INFO:tensorflow:Assets written to: model_64_32_0.001/assets\n"
     ]
    },
    {
     "name": "stdout",
     "output_type": "stream",
     "text": [
      "96/96 [==============================] - 9s 61ms/step - loss: 3.6548 - accuracy: 0.5374 - val_loss: 0.7558 - val_accuracy: 0.5476\n",
      "Epoch 2/50\n",
      "96/96 [==============================] - ETA: 0s - loss: 1.2960 - accuracy: 0.5120INFO:tensorflow:Assets written to: model_64_32_0.001/assets\n"
     ]
    },
    {
     "name": "stderr",
     "output_type": "stream",
     "text": [
      "INFO:tensorflow:Assets written to: model_64_32_0.001/assets\n"
     ]
    },
    {
     "name": "stdout",
     "output_type": "stream",
     "text": [
      "96/96 [==============================] - 7s 74ms/step - loss: 1.2960 - accuracy: 0.5120 - val_loss: 0.7663 - val_accuracy: 0.5522\n",
      "Epoch 3/50\n",
      "96/96 [==============================] - 2s 21ms/step - loss: 1.1186 - accuracy: 0.4998 - val_loss: 0.7231 - val_accuracy: 0.5502\n",
      "Epoch 4/50\n",
      "96/96 [==============================] - 2s 20ms/step - loss: 1.0019 - accuracy: 0.5222 - val_loss: 0.7087 - val_accuracy: 0.5279\n",
      "Epoch 5/50\n",
      "96/96 [==============================] - 2s 20ms/step - loss: 0.9225 - accuracy: 0.5199 - val_loss: 0.7199 - val_accuracy: 0.5279\n",
      "Epoch 6/50\n",
      "94/96 [============================>.] - ETA: 0s - loss: 0.8638 - accuracy: 0.5349INFO:tensorflow:Assets written to: model_64_32_0.001/assets\n"
     ]
    },
    {
     "name": "stderr",
     "output_type": "stream",
     "text": [
      "INFO:tensorflow:Assets written to: model_64_32_0.001/assets\n"
     ]
    },
    {
     "name": "stdout",
     "output_type": "stream",
     "text": [
      "96/96 [==============================] - 6s 66ms/step - loss: 0.8601 - accuracy: 0.5373 - val_loss: 0.6908 - val_accuracy: 0.6218\n",
      "Epoch 7/50\n",
      "93/96 [============================>.] - ETA: 0s - loss: 0.6536 - accuracy: 0.6803INFO:tensorflow:Assets written to: model_64_32_0.001/assets\n"
     ]
    },
    {
     "name": "stderr",
     "output_type": "stream",
     "text": [
      "INFO:tensorflow:Assets written to: model_64_32_0.001/assets\n"
     ]
    },
    {
     "name": "stdout",
     "output_type": "stream",
     "text": [
      "96/96 [==============================] - 5s 56ms/step - loss: 0.6486 - accuracy: 0.6841 - val_loss: 0.6377 - val_accuracy: 0.6986\n",
      "Epoch 8/50\n",
      "93/96 [============================>.] - ETA: 0s - loss: 0.5356 - accuracy: 0.7762INFO:tensorflow:Assets written to: model_64_32_0.001/assets\n"
     ]
    },
    {
     "name": "stderr",
     "output_type": "stream",
     "text": [
      "INFO:tensorflow:Assets written to: model_64_32_0.001/assets\n"
     ]
    },
    {
     "name": "stdout",
     "output_type": "stream",
     "text": [
      "96/96 [==============================] - 6s 62ms/step - loss: 0.5318 - accuracy: 0.7785 - val_loss: 0.5684 - val_accuracy: 0.7387\n",
      "Epoch 9/50\n",
      "96/96 [==============================] - 2s 22ms/step - loss: 0.4476 - accuracy: 0.8215 - val_loss: 0.5861 - val_accuracy: 0.7380\n",
      "Epoch 10/50\n",
      "93/96 [============================>.] - ETA: 0s - loss: 0.3629 - accuracy: 0.8589INFO:tensorflow:Assets written to: model_64_32_0.001/assets\n"
     ]
    },
    {
     "name": "stderr",
     "output_type": "stream",
     "text": [
      "INFO:tensorflow:Assets written to: model_64_32_0.001/assets\n"
     ]
    },
    {
     "name": "stdout",
     "output_type": "stream",
     "text": [
      "96/96 [==============================] - 6s 62ms/step - loss: 0.3607 - accuracy: 0.8599 - val_loss: 0.5853 - val_accuracy: 0.7610\n",
      "Epoch 11/50\n",
      "96/96 [==============================] - 2s 21ms/step - loss: 0.3068 - accuracy: 0.8980 - val_loss: 0.5717 - val_accuracy: 0.7590\n",
      "Epoch 12/50\n",
      "96/96 [==============================] - 2s 26ms/step - loss: 0.2950 - accuracy: 0.9069 - val_loss: 0.6904 - val_accuracy: 0.7459\n",
      "Epoch 13/50\n",
      "96/96 [==============================] - 2s 23ms/step - loss: 0.2645 - accuracy: 0.9161 - val_loss: 0.6215 - val_accuracy: 0.7433\n",
      "Epoch 14/50\n",
      "96/96 [==============================] - 2s 23ms/step - loss: 0.2491 - accuracy: 0.9230 - val_loss: 0.7295 - val_accuracy: 0.7374\n",
      "Epoch 15/50\n",
      "96/96 [==============================] - 2s 20ms/step - loss: 0.2284 - accuracy: 0.9351 - val_loss: 0.8070 - val_accuracy: 0.7367\n",
      "191/191 [==============================] - 1s 5ms/step\n",
      "48/48 [==============================] - 0s 4ms/step\n",
      "Training F1: 0.8585, Validation F1: 0.7301, F1 Gap: 0.1284\n",
      "\n",
      "Testing parameters: {'batch_size': 64, 'embedding_dim': 32, 'learning_rate': 0.0005}\n",
      "Epoch 1/50\n",
      "96/96 [==============================] - ETA: 0s - loss: 0.7704 - accuracy: 0.5158INFO:tensorflow:Assets written to: model_64_32_0.0005/assets\n"
     ]
    },
    {
     "name": "stderr",
     "output_type": "stream",
     "text": [
      "INFO:tensorflow:Assets written to: model_64_32_0.0005/assets\n"
     ]
    },
    {
     "name": "stdout",
     "output_type": "stream",
     "text": [
      "96/96 [==============================] - 9s 70ms/step - loss: 0.7704 - accuracy: 0.5158 - val_loss: 0.7574 - val_accuracy: 0.5443\n",
      "Epoch 2/50\n",
      "96/96 [==============================] - 2s 18ms/step - loss: 0.7651 - accuracy: 0.5087 - val_loss: 0.7288 - val_accuracy: 0.5443\n",
      "Epoch 3/50\n",
      "96/96 [==============================] - 2s 23ms/step - loss: 0.7986 - accuracy: 0.4890 - val_loss: 0.7168 - val_accuracy: 0.5430\n",
      "Epoch 4/50\n",
      "96/96 [==============================] - 2s 23ms/step - loss: 0.7604 - accuracy: 0.5085 - val_loss: 0.7157 - val_accuracy: 0.5437\n",
      "Epoch 5/50\n",
      "95/96 [============================>.] - ETA: 0s - loss: 0.6780 - accuracy: 0.6130INFO:tensorflow:Assets written to: model_64_32_0.0005/assets\n"
     ]
    },
    {
     "name": "stderr",
     "output_type": "stream",
     "text": [
      "INFO:tensorflow:Assets written to: model_64_32_0.0005/assets\n"
     ]
    },
    {
     "name": "stdout",
     "output_type": "stream",
     "text": [
      "96/96 [==============================] - 7s 77ms/step - loss: 0.6775 - accuracy: 0.6136 - val_loss: 0.5711 - val_accuracy: 0.7426\n",
      "Epoch 6/50\n",
      "95/96 [============================>.] - ETA: 0s - loss: 0.4856 - accuracy: 0.8039INFO:tensorflow:Assets written to: model_64_32_0.0005/assets\n"
     ]
    },
    {
     "name": "stderr",
     "output_type": "stream",
     "text": [
      "INFO:tensorflow:Assets written to: model_64_32_0.0005/assets\n"
     ]
    },
    {
     "name": "stdout",
     "output_type": "stream",
     "text": [
      "96/96 [==============================] - 6s 63ms/step - loss: 0.4851 - accuracy: 0.8043 - val_loss: 0.5275 - val_accuracy: 0.7676\n",
      "Epoch 7/50\n",
      "96/96 [==============================] - 2s 19ms/step - loss: 0.3985 - accuracy: 0.8493 - val_loss: 0.5810 - val_accuracy: 0.7649\n",
      "Epoch 8/50\n",
      "95/96 [============================>.] - ETA: 0s - loss: 0.3363 - accuracy: 0.8873INFO:tensorflow:Assets written to: model_64_32_0.0005/assets\n"
     ]
    },
    {
     "name": "stderr",
     "output_type": "stream",
     "text": [
      "INFO:tensorflow:Assets written to: model_64_32_0.0005/assets\n"
     ]
    },
    {
     "name": "stdout",
     "output_type": "stream",
     "text": [
      "96/96 [==============================] - 6s 59ms/step - loss: 0.3361 - accuracy: 0.8874 - val_loss: 0.5461 - val_accuracy: 0.7748\n",
      "Epoch 9/50\n",
      "96/96 [==============================] - 2s 23ms/step - loss: 0.3154 - accuracy: 0.9002 - val_loss: 0.7027 - val_accuracy: 0.7511\n",
      "Epoch 10/50\n",
      "96/96 [==============================] - 2s 23ms/step - loss: 0.3100 - accuracy: 0.8993 - val_loss: 0.6480 - val_accuracy: 0.7511\n",
      "Epoch 11/50\n",
      "96/96 [==============================] - 2s 23ms/step - loss: 0.2774 - accuracy: 0.9149 - val_loss: 0.7119 - val_accuracy: 0.7301\n",
      "Epoch 12/50\n",
      "96/96 [==============================] - 2s 23ms/step - loss: 0.2974 - accuracy: 0.9115 - val_loss: 0.7719 - val_accuracy: 0.7150\n",
      "Epoch 13/50\n",
      "96/96 [==============================] - 2s 24ms/step - loss: 0.2862 - accuracy: 0.9149 - val_loss: 0.7552 - val_accuracy: 0.7111\n",
      "191/191 [==============================] - 1s 5ms/step\n",
      "48/48 [==============================] - 0s 6ms/step\n",
      "Training F1: 0.8246, Validation F1: 0.7431, F1 Gap: 0.0815\n",
      "\n",
      "Testing parameters: {'batch_size': 64, 'embedding_dim': 32, 'learning_rate': 0.0001}\n",
      "Epoch 1/50\n",
      "95/96 [============================>.] - ETA: 0s - loss: 15.5218 - accuracy: 0.4206INFO:tensorflow:Assets written to: model_64_32_0.0001/assets\n"
     ]
    },
    {
     "name": "stderr",
     "output_type": "stream",
     "text": [
      "INFO:tensorflow:Assets written to: model_64_32_0.0001/assets\n"
     ]
    },
    {
     "name": "stdout",
     "output_type": "stream",
     "text": [
      "96/96 [==============================] - 10s 70ms/step - loss: 15.5155 - accuracy: 0.4207 - val_loss: 11.7111 - val_accuracy: 0.4655\n",
      "Epoch 2/50\n",
      "96/96 [==============================] - 2s 19ms/step - loss: 9.9525 - accuracy: 0.4207 - val_loss: 4.4910 - val_accuracy: 0.4649\n",
      "Epoch 3/50\n",
      "96/96 [==============================] - ETA: 0s - loss: 5.0028 - accuracy: 0.4325INFO:tensorflow:Assets written to: model_64_32_0.0001/assets\n"
     ]
    },
    {
     "name": "stderr",
     "output_type": "stream",
     "text": [
      "INFO:tensorflow:Assets written to: model_64_32_0.0001/assets\n"
     ]
    },
    {
     "name": "stdout",
     "output_type": "stream",
     "text": [
      "96/96 [==============================] - 6s 60ms/step - loss: 5.0028 - accuracy: 0.4325 - val_loss: 2.4407 - val_accuracy: 0.5410\n",
      "Epoch 4/50\n",
      "96/96 [==============================] - 2s 22ms/step - loss: 2.9000 - accuracy: 0.4650 - val_loss: 3.3069 - val_accuracy: 0.5240\n",
      "Epoch 5/50\n",
      "96/96 [==============================] - 2s 22ms/step - loss: 2.0538 - accuracy: 0.4719 - val_loss: 2.9034 - val_accuracy: 0.5253\n",
      "Epoch 6/50\n",
      "96/96 [==============================] - 2s 23ms/step - loss: 1.6149 - accuracy: 0.4768 - val_loss: 2.3412 - val_accuracy: 0.5272\n",
      "Epoch 7/50\n",
      "96/96 [==============================] - 2s 24ms/step - loss: 1.3419 - accuracy: 0.4837 - val_loss: 1.7706 - val_accuracy: 0.5259\n",
      "Epoch 8/50\n",
      "96/96 [==============================] - 2s 25ms/step - loss: 1.1500 - accuracy: 0.4936 - val_loss: 1.4479 - val_accuracy: 0.5279\n",
      "191/191 [==============================] - 2s 5ms/step\n",
      "48/48 [==============================] - 0s 5ms/step\n",
      "Training F1: 0.5604, Validation F1: 0.2410, F1 Gap: 0.3193\n",
      "\n",
      "Testing parameters: {'batch_size': 64, 'embedding_dim': 64, 'learning_rate': 0.001}\n",
      "Epoch 1/50\n",
      "95/96 [============================>.] - ETA: 0s - loss: 0.8558 - accuracy: 0.4885INFO:tensorflow:Assets written to: model_64_64_0.001/assets\n"
     ]
    },
    {
     "name": "stderr",
     "output_type": "stream",
     "text": [
      "INFO:tensorflow:Assets written to: model_64_64_0.001/assets\n"
     ]
    },
    {
     "name": "stdout",
     "output_type": "stream",
     "text": [
      "96/96 [==============================] - 11s 82ms/step - loss: 0.8554 - accuracy: 0.4887 - val_loss: 0.7419 - val_accuracy: 0.5220\n",
      "Epoch 2/50\n",
      "96/96 [==============================] - ETA: 0s - loss: 0.8494 - accuracy: 0.5335INFO:tensorflow:Assets written to: model_64_64_0.001/assets\n"
     ]
    },
    {
     "name": "stderr",
     "output_type": "stream",
     "text": [
      "INFO:tensorflow:Assets written to: model_64_64_0.001/assets\n"
     ]
    },
    {
     "name": "stdout",
     "output_type": "stream",
     "text": [
      "96/96 [==============================] - 6s 60ms/step - loss: 0.8494 - accuracy: 0.5335 - val_loss: 0.7519 - val_accuracy: 0.5378\n",
      "Epoch 3/50\n",
      "95/96 [============================>.] - ETA: 0s - loss: 0.6520 - accuracy: 0.6400INFO:tensorflow:Assets written to: model_64_64_0.001/assets\n"
     ]
    },
    {
     "name": "stderr",
     "output_type": "stream",
     "text": [
      "INFO:tensorflow:Assets written to: model_64_64_0.001/assets\n"
     ]
    },
    {
     "name": "stdout",
     "output_type": "stream",
     "text": [
      "96/96 [==============================] - 6s 65ms/step - loss: 0.6511 - accuracy: 0.6406 - val_loss: 0.5543 - val_accuracy: 0.7590\n",
      "Epoch 4/50\n",
      "96/96 [==============================] - ETA: 0s - loss: 0.4839 - accuracy: 0.8031INFO:tensorflow:Assets written to: model_64_64_0.001/assets\n"
     ]
    },
    {
     "name": "stderr",
     "output_type": "stream",
     "text": [
      "INFO:tensorflow:Assets written to: model_64_64_0.001/assets\n"
     ]
    },
    {
     "name": "stdout",
     "output_type": "stream",
     "text": [
      "96/96 [==============================] - 6s 60ms/step - loss: 0.4839 - accuracy: 0.8031 - val_loss: 0.4871 - val_accuracy: 0.7932\n",
      "Epoch 5/50\n",
      "96/96 [==============================] - 2s 21ms/step - loss: 0.4015 - accuracy: 0.8644 - val_loss: 0.5381 - val_accuracy: 0.7892\n",
      "Epoch 6/50\n",
      "96/96 [==============================] - 2s 23ms/step - loss: 0.3497 - accuracy: 0.8910 - val_loss: 0.7334 - val_accuracy: 0.7689\n",
      "Epoch 7/50\n",
      "96/96 [==============================] - 3s 27ms/step - loss: 0.3296 - accuracy: 0.8951 - val_loss: 0.7358 - val_accuracy: 0.7334\n",
      "Epoch 8/50\n",
      "96/96 [==============================] - 2s 24ms/step - loss: 0.3089 - accuracy: 0.8993 - val_loss: 0.7443 - val_accuracy: 0.7728\n",
      "Epoch 9/50\n",
      "96/96 [==============================] - 2s 25ms/step - loss: 0.3110 - accuracy: 0.9062 - val_loss: 0.8066 - val_accuracy: 0.7761\n",
      "191/191 [==============================] - 2s 5ms/step\n",
      "48/48 [==============================] - 0s 6ms/step\n",
      "Training F1: 0.8096, Validation F1: 0.7498, F1 Gap: 0.0598\n",
      "\n",
      "Testing parameters: {'batch_size': 64, 'embedding_dim': 64, 'learning_rate': 0.0005}\n",
      "Epoch 1/50\n",
      "95/96 [============================>.] - ETA: 0s - loss: 2.1974 - accuracy: 0.5492INFO:tensorflow:Assets written to: model_64_64_0.0005/assets\n"
     ]
    },
    {
     "name": "stderr",
     "output_type": "stream",
     "text": [
      "INFO:tensorflow:Assets written to: model_64_64_0.0005/assets\n"
     ]
    },
    {
     "name": "stdout",
     "output_type": "stream",
     "text": [
      "96/96 [==============================] - 10s 69ms/step - loss: 2.1952 - accuracy: 0.5491 - val_loss: 0.7841 - val_accuracy: 0.5351\n",
      "Epoch 2/50\n",
      "93/96 [============================>.] - ETA: 0s - loss: 0.7452 - accuracy: 0.5375INFO:tensorflow:Assets written to: model_64_64_0.0005/assets\n"
     ]
    },
    {
     "name": "stderr",
     "output_type": "stream",
     "text": [
      "INFO:tensorflow:Assets written to: model_64_64_0.0005/assets\n"
     ]
    },
    {
     "name": "stdout",
     "output_type": "stream",
     "text": [
      "96/96 [==============================] - 8s 79ms/step - loss: 0.7446 - accuracy: 0.5325 - val_loss: 0.7313 - val_accuracy: 0.5364\n",
      "Epoch 3/50\n",
      "96/96 [==============================] - ETA: 0s - loss: 0.7184 - accuracy: 0.5259INFO:tensorflow:Assets written to: model_64_64_0.0005/assets\n"
     ]
    },
    {
     "name": "stderr",
     "output_type": "stream",
     "text": [
      "INFO:tensorflow:Assets written to: model_64_64_0.0005/assets\n"
     ]
    },
    {
     "name": "stdout",
     "output_type": "stream",
     "text": [
      "96/96 [==============================] - 6s 62ms/step - loss: 0.7184 - accuracy: 0.5259 - val_loss: 0.6852 - val_accuracy: 0.5824\n",
      "Epoch 4/50\n",
      "94/96 [============================>.] - ETA: 0s - loss: 0.5149 - accuracy: 0.7753INFO:tensorflow:Assets written to: model_64_64_0.0005/assets\n"
     ]
    },
    {
     "name": "stderr",
     "output_type": "stream",
     "text": [
      "INFO:tensorflow:Assets written to: model_64_64_0.0005/assets\n"
     ]
    },
    {
     "name": "stdout",
     "output_type": "stream",
     "text": [
      "96/96 [==============================] - 6s 67ms/step - loss: 0.5134 - accuracy: 0.7765 - val_loss: 0.4884 - val_accuracy: 0.7840\n",
      "Epoch 5/50\n",
      "96/96 [==============================] - 2s 23ms/step - loss: 0.3680 - accuracy: 0.8589 - val_loss: 0.5553 - val_accuracy: 0.7577\n",
      "Epoch 6/50\n",
      "96/96 [==============================] - 2s 22ms/step - loss: 0.3134 - accuracy: 0.8867 - val_loss: 0.8362 - val_accuracy: 0.7209\n",
      "Epoch 7/50\n",
      "96/96 [==============================] - 2s 25ms/step - loss: 0.3374 - accuracy: 0.8798 - val_loss: 0.5495 - val_accuracy: 0.7774\n",
      "Epoch 8/50\n",
      "96/96 [==============================] - 2s 22ms/step - loss: 0.2775 - accuracy: 0.9085 - val_loss: 0.6626 - val_accuracy: 0.7728\n",
      "Epoch 9/50\n",
      "96/96 [==============================] - 2s 26ms/step - loss: 0.2417 - accuracy: 0.9274 - val_loss: 0.6891 - val_accuracy: 0.7708\n",
      "191/191 [==============================] - 2s 6ms/step\n",
      "48/48 [==============================] - 0s 5ms/step\n",
      "Training F1: 0.8311, Validation F1: 0.7543, F1 Gap: 0.0768\n",
      "\n",
      "Testing parameters: {'batch_size': 64, 'embedding_dim': 64, 'learning_rate': 0.0001}\n",
      "Epoch 1/50\n",
      "95/96 [============================>.] - ETA: 0s - loss: 4.9208 - accuracy: 0.5694INFO:tensorflow:Assets written to: model_64_64_0.0001/assets\n"
     ]
    },
    {
     "name": "stderr",
     "output_type": "stream",
     "text": [
      "INFO:tensorflow:Assets written to: model_64_64_0.0001/assets\n"
     ]
    },
    {
     "name": "stdout",
     "output_type": "stream",
     "text": [
      "96/96 [==============================] - 11s 72ms/step - loss: 4.9144 - accuracy: 0.5696 - val_loss: 2.8589 - val_accuracy: 0.5056\n",
      "Epoch 2/50\n",
      "96/96 [==============================] - 2s 21ms/step - loss: 2.4967 - accuracy: 0.5346 - val_loss: 2.7083 - val_accuracy: 0.4524\n",
      "Epoch 3/50\n",
      "96/96 [==============================] - 3s 27ms/step - loss: 1.9199 - accuracy: 0.5427 - val_loss: 2.1847 - val_accuracy: 0.4767\n",
      "Epoch 4/50\n",
      "95/96 [============================>.] - ETA: 0s - loss: 1.5837 - accuracy: 0.5373INFO:tensorflow:Assets written to: model_64_64_0.0001/assets\n"
     ]
    },
    {
     "name": "stderr",
     "output_type": "stream",
     "text": [
      "INFO:tensorflow:Assets written to: model_64_64_0.0001/assets\n"
     ]
    },
    {
     "name": "stdout",
     "output_type": "stream",
     "text": [
      "96/96 [==============================] - 6s 61ms/step - loss: 1.5819 - accuracy: 0.5376 - val_loss: 1.8507 - val_accuracy: 0.5167\n",
      "Epoch 5/50\n",
      "96/96 [==============================] - 2s 23ms/step - loss: 1.3023 - accuracy: 0.5522 - val_loss: 1.5987 - val_accuracy: 0.5135\n",
      "Epoch 6/50\n",
      "93/96 [============================>.] - ETA: 0s - loss: 1.0951 - accuracy: 0.5403INFO:tensorflow:Assets written to: model_64_64_0.0001/assets\n"
     ]
    },
    {
     "name": "stderr",
     "output_type": "stream",
     "text": [
      "INFO:tensorflow:Assets written to: model_64_64_0.0001/assets\n"
     ]
    },
    {
     "name": "stdout",
     "output_type": "stream",
     "text": [
      "96/96 [==============================] - 7s 76ms/step - loss: 1.0911 - accuracy: 0.5427 - val_loss: 1.3901 - val_accuracy: 0.5246\n",
      "Epoch 7/50\n",
      "94/96 [============================>.] - ETA: 0s - loss: 0.9434 - accuracy: 0.5269INFO:tensorflow:Assets written to: model_64_64_0.0001/assets\n"
     ]
    },
    {
     "name": "stderr",
     "output_type": "stream",
     "text": [
      "INFO:tensorflow:Assets written to: model_64_64_0.0001/assets\n"
     ]
    },
    {
     "name": "stdout",
     "output_type": "stream",
     "text": [
      "96/96 [==============================] - 6s 64ms/step - loss: 0.9442 - accuracy: 0.5264 - val_loss: 1.2147 - val_accuracy: 0.5253\n",
      "Epoch 8/50\n",
      "96/96 [==============================] - 2s 21ms/step - loss: 0.8449 - accuracy: 0.5274 - val_loss: 1.0699 - val_accuracy: 0.5246\n",
      "Epoch 9/50\n",
      "94/96 [============================>.] - ETA: 0s - loss: 0.7783 - accuracy: 0.5308INFO:tensorflow:Assets written to: model_64_64_0.0001/assets\n"
     ]
    },
    {
     "name": "stderr",
     "output_type": "stream",
     "text": [
      "INFO:tensorflow:Assets written to: model_64_64_0.0001/assets\n"
     ]
    },
    {
     "name": "stdout",
     "output_type": "stream",
     "text": [
      "96/96 [==============================] - 6s 62ms/step - loss: 0.7795 - accuracy: 0.5299 - val_loss: 0.9541 - val_accuracy: 0.5299\n",
      "Epoch 10/50\n",
      "96/96 [==============================] - 2s 24ms/step - loss: 0.7370 - accuracy: 0.5389 - val_loss: 0.8670 - val_accuracy: 0.5253\n",
      "Epoch 11/50\n",
      "96/96 [==============================] - 2s 23ms/step - loss: 0.7087 - accuracy: 0.5404 - val_loss: 0.8015 - val_accuracy: 0.5266\n",
      "Epoch 12/50\n",
      "94/96 [============================>.] - ETA: 0s - loss: 0.6346 - accuracy: 0.6365INFO:tensorflow:Assets written to: model_64_64_0.0001/assets\n"
     ]
    },
    {
     "name": "stderr",
     "output_type": "stream",
     "text": [
      "INFO:tensorflow:Assets written to: model_64_64_0.0001/assets\n"
     ]
    },
    {
     "name": "stdout",
     "output_type": "stream",
     "text": [
      "96/96 [==============================] - 6s 64ms/step - loss: 0.6330 - accuracy: 0.6388 - val_loss: 0.6116 - val_accuracy: 0.7157\n",
      "Epoch 13/50\n",
      "96/96 [==============================] - ETA: 0s - loss: 0.4596 - accuracy: 0.8110INFO:tensorflow:Assets written to: model_64_64_0.0001/assets\n"
     ]
    },
    {
     "name": "stderr",
     "output_type": "stream",
     "text": [
      "INFO:tensorflow:Assets written to: model_64_64_0.0001/assets\n"
     ]
    },
    {
     "name": "stdout",
     "output_type": "stream",
     "text": [
      "96/96 [==============================] - 6s 67ms/step - loss: 0.4596 - accuracy: 0.8110 - val_loss: 0.5534 - val_accuracy: 0.7557\n",
      "Epoch 14/50\n",
      "93/96 [============================>.] - ETA: 0s - loss: 0.4036 - accuracy: 0.8459INFO:tensorflow:Assets written to: model_64_64_0.0001/assets\n"
     ]
    },
    {
     "name": "stderr",
     "output_type": "stream",
     "text": [
      "INFO:tensorflow:Assets written to: model_64_64_0.0001/assets\n"
     ]
    },
    {
     "name": "stdout",
     "output_type": "stream",
     "text": [
      "96/96 [==============================] - 6s 60ms/step - loss: 0.4021 - accuracy: 0.8471 - val_loss: 0.5450 - val_accuracy: 0.7577\n",
      "Epoch 15/50\n",
      "93/96 [============================>.] - ETA: 0s - loss: 0.3665 - accuracy: 0.8691INFO:tensorflow:Assets written to: model_64_64_0.0001/assets\n"
     ]
    },
    {
     "name": "stderr",
     "output_type": "stream",
     "text": [
      "INFO:tensorflow:Assets written to: model_64_64_0.0001/assets\n"
     ]
    },
    {
     "name": "stdout",
     "output_type": "stream",
     "text": [
      "96/96 [==============================] - 8s 81ms/step - loss: 0.3653 - accuracy: 0.8700 - val_loss: 0.5567 - val_accuracy: 0.7623\n",
      "Epoch 16/50\n",
      "94/96 [============================>.] - ETA: 0s - loss: 0.3381 - accuracy: 0.8831INFO:tensorflow:Assets written to: model_64_64_0.0001/assets\n"
     ]
    },
    {
     "name": "stderr",
     "output_type": "stream",
     "text": [
      "INFO:tensorflow:Assets written to: model_64_64_0.0001/assets\n"
     ]
    },
    {
     "name": "stdout",
     "output_type": "stream",
     "text": [
      "96/96 [==============================] - 6s 61ms/step - loss: 0.3376 - accuracy: 0.8834 - val_loss: 0.5598 - val_accuracy: 0.7656\n",
      "Epoch 17/50\n",
      "96/96 [==============================] - 2s 23ms/step - loss: 0.3132 - accuracy: 0.8934 - val_loss: 0.5683 - val_accuracy: 0.7636\n",
      "Epoch 18/50\n",
      "96/96 [==============================] - 2s 24ms/step - loss: 0.2908 - accuracy: 0.9048 - val_loss: 0.5811 - val_accuracy: 0.7649\n",
      "Epoch 19/50\n",
      "96/96 [==============================] - 3s 27ms/step - loss: 0.2692 - accuracy: 0.9153 - val_loss: 0.6022 - val_accuracy: 0.7649\n",
      "Epoch 20/50\n",
      "96/96 [==============================] - ETA: 0s - loss: 0.2552 - accuracy: 0.9202INFO:tensorflow:Assets written to: model_64_64_0.0001/assets\n"
     ]
    },
    {
     "name": "stderr",
     "output_type": "stream",
     "text": [
      "INFO:tensorflow:Assets written to: model_64_64_0.0001/assets\n"
     ]
    },
    {
     "name": "stdout",
     "output_type": "stream",
     "text": [
      "96/96 [==============================] - 7s 69ms/step - loss: 0.2552 - accuracy: 0.9202 - val_loss: 0.6036 - val_accuracy: 0.7676\n",
      "Epoch 21/50\n",
      "96/96 [==============================] - 2s 22ms/step - loss: 0.2501 - accuracy: 0.9232 - val_loss: 0.6372 - val_accuracy: 0.7630\n",
      "Epoch 22/50\n",
      "96/96 [==============================] - 2s 23ms/step - loss: 0.2410 - accuracy: 0.9266 - val_loss: 0.6702 - val_accuracy: 0.7617\n",
      "Epoch 23/50\n",
      "96/96 [==============================] - ETA: 0s - loss: 0.2320 - accuracy: 0.9312INFO:tensorflow:Assets written to: model_64_64_0.0001/assets\n"
     ]
    },
    {
     "name": "stderr",
     "output_type": "stream",
     "text": [
      "INFO:tensorflow:Assets written to: model_64_64_0.0001/assets\n"
     ]
    },
    {
     "name": "stdout",
     "output_type": "stream",
     "text": [
      "96/96 [==============================] - 7s 69ms/step - loss: 0.2320 - accuracy: 0.9312 - val_loss: 0.6358 - val_accuracy: 0.7781\n",
      "Epoch 24/50\n",
      "96/96 [==============================] - ETA: 0s - loss: 0.2357 - accuracy: 0.9274INFO:tensorflow:Assets written to: model_64_64_0.0001/assets\n"
     ]
    },
    {
     "name": "stderr",
     "output_type": "stream",
     "text": [
      "INFO:tensorflow:Assets written to: model_64_64_0.0001/assets\n"
     ]
    },
    {
     "name": "stdout",
     "output_type": "stream",
     "text": [
      "96/96 [==============================] - 6s 66ms/step - loss: 0.2357 - accuracy: 0.9274 - val_loss: 0.6275 - val_accuracy: 0.7859\n",
      "Epoch 25/50\n",
      "96/96 [==============================] - 2s 23ms/step - loss: 0.2342 - accuracy: 0.9276 - val_loss: 0.6433 - val_accuracy: 0.7794\n",
      "Epoch 26/50\n",
      "96/96 [==============================] - 2s 21ms/step - loss: 0.2364 - accuracy: 0.9248 - val_loss: 0.6472 - val_accuracy: 0.7814\n",
      "Epoch 27/50\n",
      "96/96 [==============================] - 3s 27ms/step - loss: 0.2169 - accuracy: 0.9350 - val_loss: 0.6646 - val_accuracy: 0.7754\n",
      "Epoch 28/50\n",
      "96/96 [==============================] - 2s 24ms/step - loss: 0.2020 - accuracy: 0.9424 - val_loss: 0.6993 - val_accuracy: 0.7663\n",
      "Epoch 29/50\n",
      "96/96 [==============================] - 3s 26ms/step - loss: 0.1943 - accuracy: 0.9461 - val_loss: 0.7164 - val_accuracy: 0.7682\n",
      "191/191 [==============================] - 2s 5ms/step\n",
      "48/48 [==============================] - 0s 5ms/step\n",
      "Training F1: 0.8958, Validation F1: 0.7429, F1 Gap: 0.1529\n"
     ]
    }
   ],
   "source": [
    "results_df = pd.DataFrame(columns=[\n",
    "    'batch_size', 'embedding_dim', 'learning_rate',\n",
    "    'train_f1', 'train_accuracy', 'train_precision', 'train_recall',\n",
    "    'val_f1', 'val_accuracy', 'val_precision', 'val_recall', 'f1_gap'\n",
    "])\n",
    "\n",
    "# Grid search\n",
    "best_val_f1 = 0.0\n",
    "best_params = None\n",
    "best_model_path = 'best_model_grid'\n",
    "best_history = None\n",
    "\n",
    "for params in ParameterGrid(param_grid):\n",
    "    print(f\"\\nTesting parameters: {params}\")\n",
    "    \n",
    "    # Model architecture\n",
    "    text_input = Input(shape=(max_len,), name='text_input')\n",
    "    text_embed = Embedding(max_words, params['embedding_dim'], input_length=max_len)(text_input)\n",
    "    text_lstm = LSTM(32)(text_embed)\n",
    "    cat_input = Input(shape=(train_cat.shape[1],), name='cat_input')\n",
    "    cat_dense = Dense(16, activation='relu')(cat_input)\n",
    "    combined = Concatenate()([text_lstm, cat_dense])\n",
    "    output = Dense(16, activation='relu')(combined)\n",
    "    output = Dense(1, activation='sigmoid')(output)\n",
    "    model = Model(inputs=[text_input, cat_input], outputs=output)\n",
    "\n",
    "    # Compile model\n",
    "    model.compile(\n",
    "        optimizer=tf.keras.optimizers.Adam(learning_rate=params['learning_rate']),\n",
    "        loss='binary_crossentropy',\n",
    "        metrics='accuracy'\n",
    "    )\n",
    "\n",
    "    # Callbacks\n",
    "    early_stopping = EarlyStopping(\n",
    "        monitor='val_accuracy',\n",
    "        mode='max',\n",
    "        patience=5,\n",
    "        restore_best_weights=True,\n",
    "        verbose=0\n",
    "    )\n",
    "    checkpoint = ModelCheckpoint(\n",
    "        f\"model_{params['batch_size']}_{params['embedding_dim']}_{params['learning_rate']}\",\n",
    "        monitor='val_accuracy',\n",
    "        mode='max',\n",
    "        save_best_only=True,\n",
    "        verbose=0\n",
    "    )\n",
    "\n",
    "    # Train model\n",
    "    history = model.fit(\n",
    "        [train_padded, train_cat],\n",
    "        train_df['target'].values,\n",
    "        epochs=50,\n",
    "        batch_size=params['batch_size'],\n",
    "        validation_split=0.2,\n",
    "        callbacks=[early_stopping, checkpoint],\n",
    "        shuffle=False,\n",
    "        verbose=1\n",
    "    )\n",
    "    n_samples = len(train_df)\n",
    "    val_size = int(0.2 * n_samples)\n",
    "    train_size = n_samples - val_size\n",
    "    train_indices = np.arange(train_size)\n",
    "    val_indices = np.arange(train_size, n_samples)\n",
    "    train_padded_split = train_padded[train_indices]\n",
    "    train_cat_split = train_cat[train_indices]\n",
    "    train_labels = train_df['target'].values[train_indices]\n",
    "    val_padded_split = train_padded[val_indices]\n",
    "    val_cat_split = train_cat[val_indices]\n",
    "    val_labels = train_df['target'].values[val_indices]\n",
    "\n",
    "    train_preds = (model.predict([train_padded_split, train_cat_split]) > 0.5).astype(int)\n",
    "    val_preds = (model.predict([val_padded_split, val_cat_split]) > 0.5).astype(int)\n",
    "\n",
    "    train_f1 = f1_score(train_labels, train_preds)\n",
    "    train_accuracy = accuracy_score(train_labels, train_preds)\n",
    "    train_precision = precision_score(train_labels, train_preds)\n",
    "    train_recall = recall_score(train_labels, train_preds)\n",
    "    val_f1 = f1_score(val_labels, val_preds)\n",
    "    val_accuracy = accuracy_score(val_labels, val_preds)\n",
    "    val_precision = precision_score(val_labels, val_preds)\n",
    "    val_recall = recall_score(val_labels, val_preds)\n",
    "    f1_gap = train_f1 - val_f1\n",
    "\n",
    "    # Store results\n",
    "    results_df = pd.concat([results_df, pd.DataFrame([{\n",
    "        'batch_size': params['batch_size'],\n",
    "        'embedding_dim': params['embedding_dim'],\n",
    "        'learning_rate': params['learning_rate'],\n",
    "        'train_f1': train_f1,\n",
    "        'train_accuracy': train_accuracy,\n",
    "        'train_precision': train_precision,\n",
    "        'train_recall': train_recall,\n",
    "        'val_f1': val_f1,\n",
    "        'val_accuracy': val_accuracy,\n",
    "        'val_precision': val_precision,\n",
    "        'val_recall': val_recall,\n",
    "        'f1_gap': f1_gap\n",
    "    }])], ignore_index=True)\n",
    "\n",
    "    print(f\"Training F1: {train_f1:.4f}, Validation F1: {val_f1:.4f}, F1 Gap: {(train_f1 - val_f1):.4f}\")\n",
    "\n",
    "    if val_f1 > best_val_f1:\n",
    "        best_val_f1 = val_f1\n",
    "        best_params = params\n",
    "        best_history = history\n",
    "        model.save(best_model_path)\n"
   ]
  },
  {
   "cell_type": "code",
   "execution_count": 266,
   "id": "48522490",
   "metadata": {},
   "outputs": [
    {
     "data": {
      "text/html": [
       "<div>\n",
       "<style scoped>\n",
       "    .dataframe tbody tr th:only-of-type {\n",
       "        vertical-align: middle;\n",
       "    }\n",
       "\n",
       "    .dataframe tbody tr th {\n",
       "        vertical-align: top;\n",
       "    }\n",
       "\n",
       "    .dataframe thead th {\n",
       "        text-align: right;\n",
       "    }\n",
       "</style>\n",
       "<table border=\"1\" class=\"dataframe\">\n",
       "  <thead>\n",
       "    <tr style=\"text-align: right;\">\n",
       "      <th></th>\n",
       "      <th>batch_size</th>\n",
       "      <th>embedding_dim</th>\n",
       "      <th>learning_rate</th>\n",
       "      <th>train_f1</th>\n",
       "      <th>train_accuracy</th>\n",
       "      <th>train_precision</th>\n",
       "      <th>train_recall</th>\n",
       "      <th>val_f1</th>\n",
       "      <th>val_accuracy</th>\n",
       "      <th>val_precision</th>\n",
       "      <th>val_recall</th>\n",
       "      <th>f1_gap</th>\n",
       "    </tr>\n",
       "  </thead>\n",
       "  <tbody>\n",
       "    <tr>\n",
       "      <th>0</th>\n",
       "      <td>32</td>\n",
       "      <td>32</td>\n",
       "      <td>0.0010</td>\n",
       "      <td>0.807381</td>\n",
       "      <td>0.859465</td>\n",
       "      <td>0.953241</td>\n",
       "      <td>0.700234</td>\n",
       "      <td>0.742400</td>\n",
       "      <td>0.788436</td>\n",
       "      <td>0.857671</td>\n",
       "      <td>0.654443</td>\n",
       "      <td>0.064981</td>\n",
       "    </tr>\n",
       "    <tr>\n",
       "      <th>1</th>\n",
       "      <td>32</td>\n",
       "      <td>32</td>\n",
       "      <td>0.0005</td>\n",
       "      <td>0.848598</td>\n",
       "      <td>0.880315</td>\n",
       "      <td>0.906791</td>\n",
       "      <td>0.797424</td>\n",
       "      <td>0.758030</td>\n",
       "      <td>0.777267</td>\n",
       "      <td>0.767341</td>\n",
       "      <td>0.748942</td>\n",
       "      <td>0.090568</td>\n",
       "    </tr>\n",
       "    <tr>\n",
       "      <th>2</th>\n",
       "      <td>32</td>\n",
       "      <td>32</td>\n",
       "      <td>0.0001</td>\n",
       "      <td>0.844436</td>\n",
       "      <td>0.873091</td>\n",
       "      <td>0.871624</td>\n",
       "      <td>0.818891</td>\n",
       "      <td>0.742176</td>\n",
       "      <td>0.772668</td>\n",
       "      <td>0.786730</td>\n",
       "      <td>0.702398</td>\n",
       "      <td>0.102260</td>\n",
       "    </tr>\n",
       "    <tr>\n",
       "      <th>3</th>\n",
       "      <td>32</td>\n",
       "      <td>64</td>\n",
       "      <td>0.0010</td>\n",
       "      <td>0.728679</td>\n",
       "      <td>0.763914</td>\n",
       "      <td>0.705259</td>\n",
       "      <td>0.753708</td>\n",
       "      <td>0.690524</td>\n",
       "      <td>0.693167</td>\n",
       "      <td>0.651250</td>\n",
       "      <td>0.734838</td>\n",
       "      <td>0.038156</td>\n",
       "    </tr>\n",
       "    <tr>\n",
       "      <th>4</th>\n",
       "      <td>32</td>\n",
       "      <td>64</td>\n",
       "      <td>0.0005</td>\n",
       "      <td>0.820524</td>\n",
       "      <td>0.867345</td>\n",
       "      <td>0.952062</td>\n",
       "      <td>0.720921</td>\n",
       "      <td>0.764706</td>\n",
       "      <td>0.789750</td>\n",
       "      <td>0.798771</td>\n",
       "      <td>0.733427</td>\n",
       "      <td>0.055818</td>\n",
       "    </tr>\n",
       "    <tr>\n",
       "      <th>5</th>\n",
       "      <td>32</td>\n",
       "      <td>64</td>\n",
       "      <td>0.0001</td>\n",
       "      <td>0.535464</td>\n",
       "      <td>0.455919</td>\n",
       "      <td>0.417760</td>\n",
       "      <td>0.745511</td>\n",
       "      <td>0.100796</td>\n",
       "      <td>0.554534</td>\n",
       "      <td>0.844444</td>\n",
       "      <td>0.053597</td>\n",
       "      <td>0.434668</td>\n",
       "    </tr>\n",
       "    <tr>\n",
       "      <th>6</th>\n",
       "      <td>64</td>\n",
       "      <td>32</td>\n",
       "      <td>0.0010</td>\n",
       "      <td>0.858491</td>\n",
       "      <td>0.881793</td>\n",
       "      <td>0.864608</td>\n",
       "      <td>0.852459</td>\n",
       "      <td>0.730112</td>\n",
       "      <td>0.761498</td>\n",
       "      <td>0.772013</td>\n",
       "      <td>0.692525</td>\n",
       "      <td>0.128379</td>\n",
       "    </tr>\n",
       "    <tr>\n",
       "      <th>7</th>\n",
       "      <td>64</td>\n",
       "      <td>32</td>\n",
       "      <td>0.0005</td>\n",
       "      <td>0.824609</td>\n",
       "      <td>0.871286</td>\n",
       "      <td>0.965933</td>\n",
       "      <td>0.719360</td>\n",
       "      <td>0.743071</td>\n",
       "      <td>0.774639</td>\n",
       "      <td>0.792332</td>\n",
       "      <td>0.699577</td>\n",
       "      <td>0.081537</td>\n",
       "    </tr>\n",
       "    <tr>\n",
       "      <th>8</th>\n",
       "      <td>64</td>\n",
       "      <td>32</td>\n",
       "      <td>0.0001</td>\n",
       "      <td>0.560391</td>\n",
       "      <td>0.439501</td>\n",
       "      <td>0.418140</td>\n",
       "      <td>0.849336</td>\n",
       "      <td>0.241042</td>\n",
       "      <td>0.540736</td>\n",
       "      <td>0.523585</td>\n",
       "      <td>0.156559</td>\n",
       "      <td>0.319349</td>\n",
       "    </tr>\n",
       "    <tr>\n",
       "      <th>9</th>\n",
       "      <td>64</td>\n",
       "      <td>64</td>\n",
       "      <td>0.0010</td>\n",
       "      <td>0.809575</td>\n",
       "      <td>0.855032</td>\n",
       "      <td>0.904578</td>\n",
       "      <td>0.732631</td>\n",
       "      <td>0.749801</td>\n",
       "      <td>0.793035</td>\n",
       "      <td>0.858182</td>\n",
       "      <td>0.665726</td>\n",
       "      <td>0.059774</td>\n",
       "    </tr>\n",
       "    <tr>\n",
       "      <th>10</th>\n",
       "      <td>64</td>\n",
       "      <td>64</td>\n",
       "      <td>0.0005</td>\n",
       "      <td>0.831070</td>\n",
       "      <td>0.861107</td>\n",
       "      <td>0.850777</td>\n",
       "      <td>0.812256</td>\n",
       "      <td>0.754294</td>\n",
       "      <td>0.783837</td>\n",
       "      <td>0.801587</td>\n",
       "      <td>0.712271</td>\n",
       "      <td>0.076776</td>\n",
       "    </tr>\n",
       "    <tr>\n",
       "      <th>11</th>\n",
       "      <td>64</td>\n",
       "      <td>64</td>\n",
       "      <td>0.0001</td>\n",
       "      <td>0.895842</td>\n",
       "      <td>0.918568</td>\n",
       "      <td>0.969545</td>\n",
       "      <td>0.832553</td>\n",
       "      <td>0.742902</td>\n",
       "      <td>0.785808</td>\n",
       "      <td>0.842576</td>\n",
       "      <td>0.664316</td>\n",
       "      <td>0.152940</td>\n",
       "    </tr>\n",
       "  </tbody>\n",
       "</table>\n",
       "</div>"
      ],
      "text/plain": [
       "   batch_size embedding_dim  learning_rate  train_f1  train_accuracy  \\\n",
       "0          32            32         0.0010  0.807381        0.859465   \n",
       "1          32            32         0.0005  0.848598        0.880315   \n",
       "2          32            32         0.0001  0.844436        0.873091   \n",
       "3          32            64         0.0010  0.728679        0.763914   \n",
       "4          32            64         0.0005  0.820524        0.867345   \n",
       "5          32            64         0.0001  0.535464        0.455919   \n",
       "6          64            32         0.0010  0.858491        0.881793   \n",
       "7          64            32         0.0005  0.824609        0.871286   \n",
       "8          64            32         0.0001  0.560391        0.439501   \n",
       "9          64            64         0.0010  0.809575        0.855032   \n",
       "10         64            64         0.0005  0.831070        0.861107   \n",
       "11         64            64         0.0001  0.895842        0.918568   \n",
       "\n",
       "    train_precision  train_recall    val_f1  val_accuracy  val_precision  \\\n",
       "0          0.953241      0.700234  0.742400      0.788436       0.857671   \n",
       "1          0.906791      0.797424  0.758030      0.777267       0.767341   \n",
       "2          0.871624      0.818891  0.742176      0.772668       0.786730   \n",
       "3          0.705259      0.753708  0.690524      0.693167       0.651250   \n",
       "4          0.952062      0.720921  0.764706      0.789750       0.798771   \n",
       "5          0.417760      0.745511  0.100796      0.554534       0.844444   \n",
       "6          0.864608      0.852459  0.730112      0.761498       0.772013   \n",
       "7          0.965933      0.719360  0.743071      0.774639       0.792332   \n",
       "8          0.418140      0.849336  0.241042      0.540736       0.523585   \n",
       "9          0.904578      0.732631  0.749801      0.793035       0.858182   \n",
       "10         0.850777      0.812256  0.754294      0.783837       0.801587   \n",
       "11         0.969545      0.832553  0.742902      0.785808       0.842576   \n",
       "\n",
       "    val_recall    f1_gap  \n",
       "0     0.654443  0.064981  \n",
       "1     0.748942  0.090568  \n",
       "2     0.702398  0.102260  \n",
       "3     0.734838  0.038156  \n",
       "4     0.733427  0.055818  \n",
       "5     0.053597  0.434668  \n",
       "6     0.692525  0.128379  \n",
       "7     0.699577  0.081537  \n",
       "8     0.156559  0.319349  \n",
       "9     0.665726  0.059774  \n",
       "10    0.712271  0.076776  \n",
       "11    0.664316  0.152940  "
      ]
     },
     "execution_count": 266,
     "metadata": {},
     "output_type": "execute_result"
    }
   ],
   "source": [
    "results_df"
   ]
  },
  {
   "cell_type": "code",
   "execution_count": 267,
   "id": "c1e2a3ae",
   "metadata": {},
   "outputs": [
    {
     "name": "stdout",
     "output_type": "stream",
     "text": [
      "\n",
      "Best Parameters: {'batch_size': 32, 'embedding_dim': 64, 'learning_rate': 0.0005}\n",
      "Best Validation F1: 0.7647\n"
     ]
    },
    {
     "data": {
      "text/plain": [
       "<matplotlib.legend.Legend at 0x7fb50791a260>"
      ]
     },
     "execution_count": 267,
     "metadata": {},
     "output_type": "execute_result"
    },
    {
     "data": {
      "image/png": "[encoded data removed]",
      "text/plain": [
       "<Figure size 800x600 with 1 Axes>"
      ]
     },
     "metadata": {},
     "output_type": "display_data"
    }
   ],
   "source": [
    "# Print best results\n",
    "print(f\"\\nBest Parameters: {best_params}\")\n",
    "print(f\"Best Validation F1: {best_val_f1:.4f}\")\n",
    "\n",
    "plt.figure(figsize=(8, 6))\n",
    "plt.plot(best_history.history['accuracy'], label='Training Accuracy')\n",
    "plt.plot(best_history.history['val_accuracy'], label='Validation Accuracy')\n",
    "plt.title('Accuracy per Epoch')\n",
    "plt.xlabel('Epoch')\n",
    "plt.ylabel('Accuracy')\n",
    "plt.legend()"
   ]
  },
  {
   "cell_type": "markdown",
   "id": "0dc61a4e",
   "metadata": {},
   "source": [
    "Best Model Performance: The model with embedding_dim=64, lstm_units=32, and learning_rate=0.0005 achieved the highest validation F1 score of 0.7647, demonstrating strong performance on unseen data. It also has a low F1 gap of 0.05582 between training and validation F1, indicating strong generalization. This model’s validation accuracy (0.7898), precision (0.7988), and recall (0.7334) are all among the top performances.\n",
    "\n",
    "Generalization and Stability: The best model’s small F1 gap highlights its ability to avoid overfitting, unlike models with higher gaps (e.g., 0.1529 for embedding_dim=64, lstm_units=64, learning_rate=0.0001). Models with lower learning rates (0.0005, 0.0001) generally show better generalization, but some (e.g., embedding_dim=64, lstm_units=32, learning_rate=0.0001) underperform on validation F1 (0.2410), likely due to insufficient training.\n",
    "\n",
    "\n",
    "What Went Well: The grid search effectively identified a balanced model with embedding_dim=64 and lstm_units=32, which consistently outperformed larger architectures in validation F1. Lower learning rates (0.0005) struck a good balance between convergence speed and stability, as seen in the best model’s metrics. The use of early stopping prevented overfitting, particularly for models with smaller F1 gaps.\n",
    "\n",
    "\n",
    "Areas for Improvement: Adding dropout layers (e.g., 0.2–0.3 after LSTM or Dense layers) could further reduce overfitting in models with larger F1 gaps (e.g., 0.1284 for embedding_dim=64, lstm_units=32, learning_rate=0.0010). Increasing early stopping patience (e.g., from 5 to 10) for lower learning rates (0.0001) might allow better convergence, as some models (e.g., embedding_dim=64, lstm_units=64, learning_rate=0.0001) show high training F1 (0.8958) but poor validation F1 (0.7429). Experimenting with larger LSTM units (e.g., 128) or additional Dense layers could enhance feature extraction, particularly for complex patterns, but should be paired with regularization to maintain generalization."
   ]
  },
  {
   "cell_type": "markdown",
   "id": "d8fccde0",
   "metadata": {},
   "source": [
    "# Predictions"
   ]
  },
  {
   "cell_type": "code",
   "execution_count": 268,
   "id": "cda9f02c",
   "metadata": {},
   "outputs": [],
   "source": [
    "model = tf.keras.models.load_model('best_model_grid')"
   ]
  },
  {
   "cell_type": "code",
   "execution_count": 269,
   "id": "deaf3872",
   "metadata": {},
   "outputs": [
    {
     "name": "stdout",
     "output_type": "stream",
     "text": [
      "102/102 [==============================] - 1s 5ms/step\n"
     ]
    }
   ],
   "source": [
    "predictions = model.predict([test_padded, test_cat])\n",
    "predictions = (predictions > 0.5).astype(int)  # Convert probabilities to 0/1\n",
    "\n",
    "test_df['target'] = predictions\n",
    "test_df[['id', 'target']].to_csv('submission.csv', index=False)"
   ]
  },
  {
   "cell_type": "code",
   "execution_count": null,
   "id": "3d7ecb21",
   "metadata": {},
   "outputs": [],
   "source": []
  }
 ],
 "metadata": {
  "kernelspec": {
   "display_name": "base",
   "language": "python",
   "name": "python3"
  },
  "language_info": {
   "codemirror_mode": {
    "name": "ipython",
    "version": 3
   },
   "file_extension": ".py",
   "mimetype": "text/x-python",
   "name": "python",
   "nbconvert_exporter": "python",
   "pygments_lexer": "ipython3",
   "version": "3.10.9"
  }
 },
 "nbformat": 4,
 "nbformat_minor": 5
}
